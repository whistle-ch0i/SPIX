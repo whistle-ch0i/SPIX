{
 "cells": [
  {
   "cell_type": "code",
   "execution_count": null,
   "id": "db0b791d",
   "metadata": {
    "vscode": {
     "languageId": "plaintext"
    }
   },
   "outputs": [],
   "source": [
    "import stereo as st\n",
    "import stereo.io"
   ]
  },
  {
   "cell_type": "code",
   "execution_count": null,
   "id": "e6eaba0d",
   "metadata": {
    "vscode": {
     "languageId": "plaintext"
    }
   },
   "outputs": [],
   "source": [
    "#https://ftp.cngb.org/pub/SciRAID/stomics/STDS0000058/Bin1_matrix/E16.5_E1S3_GEM_bin1.tsv.gz"
   ]
  },
  {
   "cell_type": "code",
   "execution_count": null,
   "id": "076022e7",
   "metadata": {
    "vscode": {
     "languageId": "plaintext"
    }
   },
   "outputs": [],
   "source": [
    "data_path = 'E16.5_E1S3_GEM_bin1.tsv'\n",
    "data = stereo.io.read_gem(\n",
    "        file_path=data_path,\n",
    "        sep='\\t',\n",
    "        bin_type='bins',\n",
    "        bin_size =3,\n",
    "        is_sparse=True,\n",
    "        )"
   ]
  },
  {
   "cell_type": "code",
   "execution_count": null,
   "id": "113c35b0",
   "metadata": {
    "vscode": {
     "languageId": "plaintext"
    }
   },
   "outputs": [],
   "source": [
    "# remember to set flavor as scanpy\n",
    "adata = st.io.stereo_to_anndata(data,flavor='scanpy',output='E16.5_E1S3_bin3.h5ad')"
   ]
  }
 ],
 "metadata": {
  "language_info": {
   "name": "python"
  }
 },
 "nbformat": 4,
 "nbformat_minor": 5
}
