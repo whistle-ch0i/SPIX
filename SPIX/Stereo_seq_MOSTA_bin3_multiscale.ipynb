{
 "cells": [
  {
   "cell_type": "markdown",
   "id": "3222874b",
   "metadata": {},
   "source": [
    "# Loading Package"
   ]
  },
  {
   "cell_type": "code",
   "execution_count": null,
   "id": "ff4da652-3718-4b21-a167-31c603c60639",
   "metadata": {
    "execution": {
     "iopub.execute_input": "2025-10-07T12:56:52.100633Z",
     "iopub.status.busy": "2025-10-07T12:56:52.099917Z",
     "iopub.status.idle": "2025-10-07T12:57:00.248993Z",
     "shell.execute_reply": "2025-10-07T12:57:00.248168Z",
     "shell.execute_reply.started": "2025-10-07T12:56:52.100591Z"
    }
   },
   "outputs": [],
   "source": [
    "import os\n",
    "\n",
    "# Limit the number of threads for underlying BLAS/OpenMP libraries\n",
    "os.environ[\"OMP_NUM_THREADS\"] = \"64\"         # OpenMP threads\n",
    "os.environ[\"OPENBLAS_NUM_THREADS\"] = \"64\"      # OpenBLAS threads\n",
    "os.environ[\"MKL_NUM_THREADS\"] = \"64\"           # MKL threads\n",
    "os.environ[\"NUMEXPR_NUM_THREADS\"] = \"64\"       # NumExpr threads"
   ]
  },
  {
   "cell_type": "code",
   "execution_count": null,
   "id": "da944407-13ad-4a85-80df-396f5922cfa3",
   "metadata": {
    "execution": {
     "iopub.execute_input": "2025-10-07T12:57:00.253356Z",
     "iopub.status.busy": "2025-10-07T12:57:00.253218Z",
     "iopub.status.idle": "2025-10-07T12:57:00.256995Z",
     "shell.execute_reply": "2025-10-07T12:57:00.256534Z",
     "shell.execute_reply.started": "2025-10-07T12:57:00.253339Z"
    }
   },
   "outputs": [],
   "source": [
    "import SPIX\n",
    "from SPIX.image_processing.image_cache import *\n",
    "import pandas as pd\n",
    "import scanpy as sc\n",
    "import squidpy as sq\n",
    "import numpy as np\n",
    "import squidpy as sq\n",
    "import matplotlib.pyplot as plt\n",
    "import anndata as ad\n"
   ]
  },
  {
   "cell_type": "markdown",
   "id": "96322ca5",
   "metadata": {},
   "source": [
    "# Multiscale Workflow - bin3(~2um) Stereo-seq MOSTA data"
   ]
  },
  {
   "cell_type": "code",
   "execution_count": null,
   "id": "294d72a0-1c6b-41dd-9b38-a07cb570fc70",
   "metadata": {
    "execution": {
     "iopub.execute_input": "2025-10-07T12:57:00.282638Z",
     "iopub.status.busy": "2025-10-07T12:57:00.282503Z",
     "iopub.status.idle": "2025-10-07T12:57:48.047380Z",
     "shell.execute_reply": "2025-10-07T12:57:48.046273Z",
     "shell.execute_reply.started": "2025-10-07T12:57:00.282624Z"
    }
   },
   "outputs": [],
   "source": [
    "adata = sc.read_h5ad('/home/Data_Drive_8TB/chs1151/Vesalius/datas/E16.5_E1S3_bin3.h5ad')"
   ]
  },
  {
   "cell_type": "code",
   "execution_count": null,
   "id": "0d0e76b1-d2fc-4262-b5d1-be4dbc5d6c67",
   "metadata": {
    "execution": {
     "iopub.execute_input": "2025-10-07T12:57:48.221946Z",
     "iopub.status.busy": "2025-10-07T12:57:48.221731Z",
     "iopub.status.idle": "2025-10-07T12:57:48.344404Z",
     "shell.execute_reply": "2025-10-07T12:57:48.343670Z",
     "shell.execute_reply.started": "2025-10-07T12:57:48.221927Z"
    }
   },
   "outputs": [],
   "source": [
    "y= adata.obsm['spatial'][:,0].copy()\n",
    "x= adata.obsm['spatial'][:,1].copy()\n",
    "adata.obsm['spatial'][:,0] = x.copy()\n",
    "adata.obsm['spatial'][:,1] = y.copy()\n",
    "\n",
    "coords = adata.obsm['spatial'].copy()\n",
    "coords[:, 1] = coords[:, 1].max() - coords[:, 1]\n",
    "\n",
    "adata.obsm['spatial'] = coords\n",
    "\n",
    "coords = adata.obsm['spatial'].copy()\n",
    "coords[:, 0] = coords[:, 0].max() - coords[:, 0]\n",
    "\n",
    "adata.obsm['spatial'] = coords"
   ]
  },
  {
   "cell_type": "code",
   "execution_count": null,
   "id": "5e10cd47-b23c-4328-8d45-76d0a8974335",
   "metadata": {
    "execution": {
     "iopub.execute_input": "2025-10-07T12:57:48.469968Z",
     "iopub.status.busy": "2025-10-07T12:57:48.469787Z",
     "iopub.status.idle": "2025-10-07T13:01:50.766391Z",
     "shell.execute_reply": "2025-10-07T13:01:50.765584Z",
     "shell.execute_reply.started": "2025-10-07T12:57:48.469950Z"
    }
   },
   "outputs": [],
   "source": [
    "adata = SPIX.tm.generate_embeddings(\n",
    "    adata,\n",
    "    dim_reduction='PCA',\n",
    "    normalization='log_norm', \n",
    "    n_jobs=32,\n",
    "    dimensions=30,\n",
    "    nfeatures=2000,\n",
    "    force=True,\n",
    "    use_hvg_only=True,\n",
    "    use_coords_as_tiles=True,\n",
    "    coords_max_gap_factor=None,\n",
    "    raster_stride=10,\n",
    "    filter_threshold=1,\n",
    "    raster_max_pixels_per_tile=400,\n",
    "    raster_random_seed=42\n",
    ")\n"
   ]
  },
  {
   "cell_type": "code",
   "execution_count": null,
   "id": "f58f47b4-623b-4e26-af6e-2cca829f5e2f",
   "metadata": {
    "execution": {
     "iopub.execute_input": "2025-10-07T13:03:35.084114Z",
     "iopub.status.busy": "2025-10-07T13:03:35.083943Z",
     "iopub.status.idle": "2025-10-07T13:12:12.491162Z",
     "shell.execute_reply": "2025-10-07T13:12:12.489790Z",
     "shell.execute_reply.started": "2025-10-07T13:03:35.084097Z"
    }
   },
   "outputs": [],
   "source": [
    "adata = SPIX.ip.smooth_image(\n",
    "    adata,\n",
    "    methods=['graph','gaussian'],\n",
    "    embedding='X_embedding',\n",
    "    embedding_dims = list(range(30)),\n",
    "    graph_k=30,\n",
    "    graph_t=50,\n",
    "    gaussian_sigma=500,\n",
    "    n_jobs=10,\n",
    ")"
   ]
  },
  {
   "cell_type": "code",
   "execution_count": null,
   "id": "c139f6c7-d200-46dd-8a43-429ef6f4969f",
   "metadata": {
    "execution": {
     "iopub.execute_input": "2025-10-07T13:14:27.237385Z",
     "iopub.status.busy": "2025-10-07T13:14:27.237208Z",
     "iopub.status.idle": "2025-10-07T13:15:08.149688Z",
     "shell.execute_reply": "2025-10-07T13:15:08.148481Z",
     "shell.execute_reply.started": "2025-10-07T13:14:27.237367Z"
    }
   },
   "outputs": [],
   "source": [
    "adata = SPIX.ip.equalize_image(\n",
    "    adata,\n",
    "    dimensions=list(range(30)),\n",
    "    embedding='X_embedding_smooth',\n",
    "    sleft=5,sright=5)"
   ]
  },
  {
   "cell_type": "code",
   "execution_count": null,
   "id": "38d45656-7254-43ac-a65f-20e8d183ee4a",
   "metadata": {
    "execution": {
     "iopub.execute_input": "2025-10-07T13:15:08.150890Z",
     "iopub.status.busy": "2025-10-07T13:15:08.150685Z",
     "iopub.status.idle": "2025-10-07T13:19:55.127730Z",
     "shell.execute_reply": "2025-10-07T13:19:55.126716Z",
     "shell.execute_reply.started": "2025-10-07T13:15:08.150869Z"
    },
    "scrolled": true
   },
   "outputs": [],
   "source": [
    "cache_embedding_image(adata, embedding='X_embedding_equalize',\n",
    "                            dimensions=list(range(30)), \n",
    "                            key='image_plot_slic',\n",
    "                            origin=True,\n",
    "                            figsize=(30,30),\n",
    "                            fig_dpi=300,\n",
    "                            verbose=False,\n",
    "                      show=True)"
   ]
  },
  {
   "cell_type": "code",
   "execution_count": null,
   "id": "2e9dee5e-9542-44a0-903d-36294354c9bd",
   "metadata": {
    "execution": {
     "iopub.execute_input": "2025-10-07T13:19:55.128856Z",
     "iopub.status.busy": "2025-10-07T13:19:55.128620Z",
     "iopub.status.idle": "2025-10-07T13:19:59.322024Z",
     "shell.execute_reply": "2025-10-07T13:19:59.320297Z",
     "shell.execute_reply.started": "2025-10-07T13:19:55.128835Z"
    }
   },
   "outputs": [],
   "source": [
    "show_cached_image(adata, key='image_plot_slic', channels=[0,1,2])"
   ]
  },
  {
   "cell_type": "code",
   "execution_count": null,
   "id": "4d567c01-0f2c-4f93-9a51-496f41ef618e",
   "metadata": {
    "execution": {
     "iopub.execute_input": "2025-10-07T13:19:59.323862Z",
     "iopub.status.busy": "2025-10-07T13:19:59.323563Z",
     "iopub.status.idle": "2025-10-07T13:27:07.422221Z",
     "shell.execute_reply": "2025-10-07T13:27:07.420837Z",
     "shell.execute_reply.started": "2025-10-07T13:19:59.323837Z"
    }
   },
   "outputs": [],
   "source": [
    "SPIX.sp.segment_image(\n",
    "    adata,\n",
    "    dimensions=list(range(30)),\n",
    "     embedding='X_embedding_equalize',\n",
    "     method='image_plot_slic',\n",
    "    pitch_um=2,\n",
    "    target_segment_um=500,\n",
    "     compactness=0.5,\n",
    "     verbose=True,\n",
    "    enforce_connectivity=False,\n",
    "    use_cached_image=True,\n",
    "     origin=True,\n",
    "    show_image=True\n",
    ")"
   ]
  },
  {
   "cell_type": "code",
   "execution_count": null,
   "id": "6274a7a8",
   "metadata": {},
   "outputs": [],
   "source": []
  },
  {
   "cell_type": "code",
   "execution_count": null,
   "id": "20ffe143",
   "metadata": {},
   "outputs": [],
   "source": [
    "SPIX.pl.image_plot(\n",
    "    adata,\n",
    "    dimensions=[0, 1, 2],\n",
    "    embedding='X_embedding_segment',\n",
    "    boundary_method='pixel',\n",
    "    figsize=(10, 10),     # Adjust figure size here\n",
    "    fixed_boundary_color='black',\n",
    "    boundary_linewidth=1,\n",
    "    alpha=1,\n",
    "    plot_boundaries=True,\n",
    "    origin=True\n",
    ")"
   ]
  },
  {
   "cell_type": "code",
   "execution_count": null,
   "id": "4661b37d",
   "metadata": {},
   "outputs": [],
   "source": []
  },
  {
   "cell_type": "code",
   "execution_count": null,
   "id": "4ca743cd-01d7-4dc5-975e-53ebb720f9e6",
   "metadata": {
    "execution": {
     "iopub.execute_input": "2025-10-07T13:27:07.428178Z",
     "iopub.status.busy": "2025-10-07T13:27:07.428006Z",
     "iopub.status.idle": "2025-10-07T13:29:20.702991Z",
     "shell.execute_reply": "2025-10-07T13:29:20.701737Z",
     "shell.execute_reply.started": "2025-10-07T13:27:07.428161Z"
    }
   },
   "outputs": [],
   "source": [
    "sq.gr.spatial_neighbors(adata, coord_type='generic')"
   ]
  },
  {
   "cell_type": "code",
   "execution_count": null,
   "id": "88e16de7-fb15-46f7-843e-89d660daeb21",
   "metadata": {
    "execution": {
     "iopub.execute_input": "2025-10-07T13:29:20.704347Z",
     "iopub.status.busy": "2025-10-07T13:29:20.704122Z"
    },
    "scrolled": true
   },
   "outputs": [],
   "source": [
    "# multiscale_svg_advanced2.py\n",
    "import os, gc, tempfile, shutil, warnings, itertools\n",
    "import numpy as np, pandas as pd, scanpy as sc, seaborn as sns, matplotlib.pyplot as plt\n",
    "from joblib import Parallel, delayed\n",
    "from scipy.stats import rankdata\n",
    "from sklearn.mixture import GaussianMixture\n",
    "\n",
    "#################################\n",
    "# 1) setting\n",
    "#################################\n",
    "resolutions    = [2,8,16,30,50,100,250,500]\n",
    "# target_segment_um = [2,8,10,16,30,50, 100,500]\n",
    "compactnesses  = [0.5]\n",
    "# compactness_values = [0.1,0.2,0.5,1, 3, 5, 10],\n",
    "dims_use       = list(range(30))\n",
    "segment_method = 'image_plot_slic'\n",
    "embedding_key  = 'X_embedding_equalize'\n",
    "use_cached_image=True,\n",
    "moran_thresh   = 0      # MoranI threshold\n",
    "n_jobs         = 3\n",
    "top_changed    = 100\n",
    "use_memmap     = False    # True: h5ad \n",
    "#################################\n",
    "# 2) single-scale calculation function\n",
    "#################################\n",
    "def calc_scale(adata,scale_id, res, comp, adata_path=None):\n",
    "    if adata_path:\n",
    "        ad = sc.read_h5ad(adata_path)\n",
    "    else:\n",
    "        ad = adata.copy()\n",
    "    # segmentation\n",
    "    SPIX.sp.segment_image(\n",
    "        ad,\n",
    "        dimensions=dims_use,\n",
    "        embedding=embedding_key,\n",
    "        method=segment_method,\n",
    "        target_segment_um=res,\n",
    "        compactness=comp,\n",
    "        figsize = (30, 30),\n",
    "        fig_dpi=300,\n",
    "        enforce_connectivity=False,\n",
    "        use_cached_image=use_cached_image,\n",
    "        origin=True,\n",
    "        verbose=False\n",
    "    )\n",
    "    # pseudo-bulk Moran\n",
    "    _, moran = SPIX.an.perform_pseudo_bulk_analysis(\n",
    "        ad,\n",
    "        segment_key='Segment',\n",
    "        normalize_total=True,\n",
    "        log_transform=True,\n",
    "        expr_agg='sum',\n",
    "        moranI_threshold=moran_thresh,\n",
    "        segment_graph_strategy='collapsed',\n",
    "        collapse_row_normalize=True,\n",
    "        perform_pca=False,\n",
    "        highly_variable=False,\n",
    "        mode='moran'\n",
    "    )\n",
    "    if moran.empty:\n",
    "        warnings.warn(f\"[{scale_id}] No MoranI result \")\n",
    "        return pd.DataFrame()\n",
    "    # rank \n",
    "    moran['rank_'+scale_id] = rankdata(-moran['I'], method='min')\n",
    "    return moran[['rank_'+scale_id]]\n",
    "\n",
    "#################################\n",
    "# 3) parallel calculation\n",
    "#################################\n",
    "param_grid = list(itertools.product(resolutions, compactnesses))\n",
    "print(f\"▶ Total {len(param_grid)} scales \")\n",
    "\n",
    "adata_path = None\n",
    "if use_memmap:\n",
    "    td = tempfile.mkdtemp()\n",
    "    adata_path = os.path.join(td, 'adata_tmp.h5ad')\n",
    "    adata.write_h5ad(adata_path)\n",
    "\n",
    "results = Parallel(n_jobs=n_jobs, backend='loky', verbose=10)(\n",
    "    delayed(calc_scale)(adata,f\"r{r}_c{c}\", r, c, adata_path)\n",
    "    for r, c in param_grid\n",
    ")\n",
    "\n",
    "if use_memmap:\n",
    "    shutil.rmtree(td)\n"
   ]
  },
  {
   "cell_type": "code",
   "execution_count": null,
   "id": "8b65ef97-f649-4109-a8e6-770c18d361f6",
   "metadata": {},
   "outputs": [],
   "source": [
    "\n",
    "# concat rank table\n",
    "rank_tables = [df for df in results if not df.empty]\n",
    "\n",
    "rank_mat = pd.concat(rank_tables, axis=1, join='outer')\n",
    "max_rank = int(rank_mat.max().max())\n",
    "rank_mat = rank_mat.fillna(max_rank + 1)\n",
    "\n",
    "rank_mat.sort_index(axis=1, inplace=True)  \n",
    "\n",
    "#################################\n",
    "# 5) resolution / compactness axis\n",
    "#################################\n",
    "# resolution axis\n",
    "res_rank = pd.DataFrame(index=rank_mat.index)\n",
    "for r in resolutions:\n",
    "    cols = [f\"rank_r{r}_c{c}\" for c in compactnesses]\n",
    "    res_rank[f\"res_{r}\"] = rank_mat[cols].mean(axis=1)\n",
    "\n",
    "# compactness axis\n",
    "comp_rank = pd.DataFrame(index=rank_mat.index)\n",
    "for c in compactnesses:\n",
    "    cols = [f\"rank_r{r}_c{c}\" for r in resolutions]\n",
    "    comp_rank[f\"comp_{c}\"] = rank_mat[cols].mean(axis=1)\n"
   ]
  },
  {
   "cell_type": "code",
   "execution_count": null,
   "id": "bedf6b84-1eb4-4242-9619-3557cc10dda0",
   "metadata": {},
   "outputs": [],
   "source": [
    "df = res_rank.copy()"
   ]
  },
  {
   "cell_type": "code",
   "execution_count": null,
   "id": "e9c882a2-8d80-4ccf-a070-679fcc28889a",
   "metadata": {},
   "outputs": [],
   "source": [
    "import pandas as pd\n",
    "\n",
    "# Define regions by column names\n",
    "early_cols = ['res_2', 'res_8','res_16']\n",
    "mid_cols   = ['res_30','res_50','res_100']\n",
    "late_cols  = ['res_250','res_500']\n",
    "\n",
    "\n",
    "# Compute mean rank in each region\n",
    "df['mean_early'] = df[early_cols].mean(axis=1)\n",
    "df['mean_mid']   = df[mid_cols].mean(axis=1)\n",
    "df['mean_late']  = df[late_cols].mean(axis=1)\n",
    "\n",
    "# Set threshold ratio: difference between 1st and 2nd smallest mean must be >= this\n",
    "# threshold_ratio = 0.7  # e.g., 20%\n",
    "threshold_ratio = 0.93  # e.g., 20%\n",
    "\n",
    "def categorize_with_threshold(row):\n",
    "    # collect region means\n",
    "    regions = {\n",
    "        'early': row['mean_early'],\n",
    "        'mid':   row['mean_mid'],\n",
    "        'late':  row['mean_late']\n",
    "    }\n",
    "    # sort regions by mean ascending\n",
    "    sorted_regs = sorted(regions.items(), key=lambda x: x[1])\n",
    "    # lowest and second-lowest\n",
    "    (reg1, val1), (reg2, val2) = sorted_regs[0], sorted_regs[1]\n",
    "    # check relative difference\n",
    "    # if absolute or relative difference is big enough, assign; else mixed\n",
    "    if (val2 - val1) / val2 >= threshold_ratio:\n",
    "        return reg1\n",
    "    else:\n",
    "        return 'mixed'\n",
    "\n",
    "# Apply categorization\n",
    "df['category'] = df.apply(categorize_with_threshold, axis=1)\n",
    "\n",
    "# Optional: view how many genes fall in each category\n",
    "print(df['category'].value_counts())\n",
    "\n",
    "# Optional: inspect sample\n",
    "print(df[['mean_early','mean_mid','mean_late','category']].head())\n"
   ]
  },
  {
   "cell_type": "code",
   "execution_count": null,
   "id": "5e2d8c94-4e55-4e11-a273-5f5149da49ed",
   "metadata": {},
   "outputs": [],
   "source": [
    "def plot_traj(df, genes, xlabel, title):\n",
    "    plt.figure(figsize=(8,4))\n",
    "    x = np.arange(df.shape[1])\n",
    "    for g in genes:\n",
    "        plt.plot(x, df.loc[g], '-o', alpha=0.7, label=g)\n",
    "    plt.gca().invert_yaxis()\n",
    "    plt.xticks(x, df.columns, rotation=45)\n",
    "    plt.xlabel(xlabel); plt.ylabel('Rank')\n",
    "    plt.title(title)\n",
    "    plt.legend(bbox_to_anchor=(1.02,1), loc='upper left', fontsize=8)\n",
    "    plt.tight_layout(); plt.show()"
   ]
  },
  {
   "cell_type": "code",
   "execution_count": null,
   "id": "2e796049-3dda-447b-9760-f3806effb2c7",
   "metadata": {
    "execution": {
     "iopub.execute_input": "2025-10-07T11:35:13.141613Z",
     "iopub.status.busy": "2025-10-07T11:35:13.141306Z",
     "iopub.status.idle": "2025-10-07T11:35:13.146891Z",
     "shell.execute_reply": "2025-10-07T11:35:13.145489Z",
     "shell.execute_reply.started": "2025-10-07T11:35:13.141595Z"
    }
   },
   "outputs": [],
   "source": [
    "df['late_m_mid'] = df['mean_late']-df['mean_mid']"
   ]
  },
  {
   "cell_type": "code",
   "execution_count": null,
   "id": "08a725e6-5a64-46eb-b482-a62bc9136dfb",
   "metadata": {
    "execution": {
     "iopub.execute_input": "2025-10-07T11:29:53.775209Z",
     "iopub.status.busy": "2025-10-07T11:29:53.774808Z",
     "iopub.status.idle": "2025-10-07T11:29:53.897586Z",
     "shell.execute_reply": "2025-10-07T11:29:53.896514Z",
     "shell.execute_reply.started": "2025-10-07T11:29:53.775178Z"
    }
   },
   "outputs": [],
   "source": [
    "plot_traj(res_rank,df[df['category']=='early'].sort_values('mean_early').head(10).index.tolist(), 'Resolution', 'Unique in high resolution')"
   ]
  },
  {
   "cell_type": "code",
   "execution_count": null,
   "id": "f12c2e69-d08c-4cdb-b10e-860db33a081e",
   "metadata": {
    "execution": {
     "iopub.execute_input": "2025-10-07T11:29:54.498826Z",
     "iopub.status.busy": "2025-10-07T11:29:54.498457Z",
     "iopub.status.idle": "2025-10-07T11:29:54.638561Z",
     "shell.execute_reply": "2025-10-07T11:29:54.637513Z",
     "shell.execute_reply.started": "2025-10-07T11:29:54.498795Z"
    }
   },
   "outputs": [],
   "source": [
    "plot_traj(res_rank,df[df['category']=='late'].sort_values('mean_late').head(10).index.tolist(), 'Resolution', 'Unique in low resolution')"
   ]
  },
  {
   "cell_type": "code",
   "execution_count": null,
   "id": "22c4331d-3e58-40c9-a353-2b10327e901e",
   "metadata": {
    "execution": {
     "iopub.execute_input": "2025-10-07T11:31:23.623939Z",
     "iopub.status.busy": "2025-10-07T11:31:23.623447Z",
     "iopub.status.idle": "2025-10-07T11:31:23.787781Z",
     "shell.execute_reply": "2025-10-07T11:31:23.786684Z",
     "shell.execute_reply.started": "2025-10-07T11:31:23.623896Z"
    }
   },
   "outputs": [],
   "source": [
    "plot_traj(res_rank,df[df['category']=='late'].sort_values('mean_mid',ascending=False).head(10).index.tolist(), 'Resolution', 'Unique in low resolution')"
   ]
  },
  {
   "cell_type": "code",
   "execution_count": null,
   "id": "2dad811a-ac60-4a82-ab35-a74e72c3911e",
   "metadata": {
    "execution": {
     "iopub.execute_input": "2025-10-07T11:38:51.249525Z",
     "iopub.status.busy": "2025-10-07T11:38:51.248993Z",
     "iopub.status.idle": "2025-10-07T11:38:51.390184Z",
     "shell.execute_reply": "2025-10-07T11:38:51.388937Z",
     "shell.execute_reply.started": "2025-10-07T11:38:51.249482Z"
    }
   },
   "outputs": [],
   "source": [
    "plot_traj(res_rank,df[df['category']=='mid'].sort_values('mean_early',ascending=False).head(10).index.tolist(), 'Resolution', 'Unique in middle resolution')"
   ]
  },
  {
   "cell_type": "code",
   "execution_count": null,
   "id": "23b55e93-ee0b-4b16-b967-16f12a5ae896",
   "metadata": {
    "execution": {
     "iopub.execute_input": "2025-10-07T12:06:56.339499Z",
     "iopub.status.busy": "2025-10-07T12:06:56.339272Z",
     "iopub.status.idle": "2025-10-07T12:06:56.354908Z",
     "shell.execute_reply": "2025-10-07T12:06:56.353983Z",
     "shell.execute_reply.started": "2025-10-07T12:06:56.339481Z"
    }
   },
   "outputs": [],
   "source": [
    "# ==============================================================\n",
    "# Parallel SPIX grids using in-memory `adata` (no disk reload)\n",
    "# - Works best on Linux with 'fork' start method.\n",
    "# - Each worker process inherits the parent's memory (copy-on-write),\n",
    "#   so we can use the global `adata` directly without reloading.\n",
    "# ==============================================================\n",
    "\n",
    "import os\n",
    "import math\n",
    "import warnings\n",
    "import gc\n",
    "from typing import List, Tuple\n",
    "import matplotlib\n",
    "import matplotlib.pyplot as plt\n",
    "from PIL import Image\n",
    "import numpy as np\n",
    "import pandas as pd\n",
    "from concurrent.futures import ProcessPoolExecutor, as_completed\n",
    "import multiprocessing as mp\n",
    "\n",
    "# Try to enforce 'fork' (Linux). On macOS/Windows this may fail and fall back.\n",
    "try:\n",
    "    mp.set_start_method(\"fork\", force=True)\n",
    "except RuntimeError:\n",
    "    # Already set or platform doesn't support 'fork'\n",
    "    pass\n",
    "\n",
    "# -----------------------------\n",
    "# 0) Helpers: ranking + lists\n",
    "# -----------------------------\n",
    "\n",
    "\n",
    "# -----------------------------------------\n",
    "# 1) Worker: render one gene (uses global adata)\n",
    "# -----------------------------------------\n",
    "def _render_gene_png_worker(gene: str,\n",
    "                            out_png: str,\n",
    "                            segment_key: str,\n",
    "                            normalize_total: bool,\n",
    "                            log1p: bool,\n",
    "                            title_prefix: str,\n",
    "                            tile_figsize: tuple,\n",
    "                            tile_dpi: int):\n",
    "    \"\"\"\n",
    "    Executed in a child process.\n",
    "    Uses globally inherited `adata` and `SPIX` (via fork on Linux).\n",
    "    - Compute single-gene embedding -> dimensions=[0]\n",
    "    - Plot and save PNG\n",
    "    \"\"\"\n",
    "    # Import here so that child process resolves the same modules\n",
    "    import SPIX\n",
    "    import matplotlib.pyplot as plt\n",
    "\n",
    "    global adata  # inherited via fork (Linux). On spawn, this may copy/pickle (slower).\n",
    "\n",
    "    # Gracefully handle missing gene\n",
    "    if str(gene) not in set(map(str, adata.var_names)):\n",
    "        fig = plt.figure(figsize=tile_figsize)\n",
    "        plt.text(0.5, 0.5, f\"{title_prefix}{gene}\\n(not in var_names)\", ha='center', va='center')\n",
    "        plt.axis('off')\n",
    "        fig.savefig(out_png, dpi=tile_dpi, bbox_inches='tight')\n",
    "        plt.close(fig)\n",
    "        return out_png\n",
    "\n",
    "    # Compute single-gene embedding (overwrites X_gene_embedding in THIS process only)\n",
    "    SPIX.an.add_gene_expression_embedding(\n",
    "        adata,\n",
    "        genes=[gene],\n",
    "        segment_key=segment_key,\n",
    "        normalize_total=normalize_total,\n",
    "        log1p=log1p\n",
    "    )\n",
    "\n",
    "    # Plot using the single dimension [0]\n",
    "    SPIX.pl.image_plot(\n",
    "        adata,\n",
    "        dimensions=[0],                  # single dim only\n",
    "        embedding='X_gene_embedding',\n",
    "        boundary_method='pixel',\n",
    "        imshow_tile_size=10,\n",
    "        imshow_scale_factor=1,\n",
    "        figsize=tile_figsize,\n",
    "        fixed_boundary_color='Black',\n",
    "        cmap='viridis',\n",
    "        boundary_linewidth=1,\n",
    "        show_colorbar=True,\n",
    "        prioritize_high_values=True,\n",
    "        title=f\"{title_prefix}{gene}\",\n",
    "        alpha=1,\n",
    "        plot_boundaries=False,\n",
    "        origin=True\n",
    "    )\n",
    "    plt.savefig(out_png, dpi=tile_dpi, bbox_inches='tight')\n",
    "    plt.close()\n",
    "\n",
    "    # Cleanup in child\n",
    "    gc.collect()\n",
    "    return out_png\n",
    "\n",
    "# ------------------------------\n",
    "# 2) Grid assembly\n",
    "# ------------------------------\n",
    "def _assemble_grid(tile_paths: List[str], out_path: str, cols: int = 5, suptitle: str = \"\", dpi: int = 150):\n",
    "    \"\"\"Assemble saved PNG tiles into a grid figure.\"\"\"\n",
    "    rows = math.ceil(len(tile_paths)/cols) if tile_paths else 1\n",
    "    fig, axes = plt.subplots(rows, cols, figsize=(cols*4, rows*4), squeeze=False)\n",
    "    if suptitle:\n",
    "        fig.suptitle(suptitle, fontsize=16)\n",
    "    i = 0\n",
    "    for r in range(rows):\n",
    "        for c in range(cols):\n",
    "            ax = axes[r][c]\n",
    "            ax.axis('off')\n",
    "            if i < len(tile_paths):\n",
    "                img = Image.open(tile_paths[i])\n",
    "                ax.imshow(img)\n",
    "            i += 1\n",
    "    plt.tight_layout(rect=[0, 0, 1, 0.96])\n",
    "    plt.savefig(out_path, dpi=dpi, bbox_inches='tight')\n",
    "    plt.close(fig)\n",
    "\n",
    "# -------------------------------------------------------\n",
    "# 3) Orchestrator: real parallel pipeline per group\n",
    "# -------------------------------------------------------\n",
    "def build_grid_for_group_parallel(group_name: str,\n",
    "                                  genes: List[str],\n",
    "                                  out_dir: str = \"./spix_grids\",\n",
    "                                  cols: int = 5,\n",
    "                                  tile_figsize=(10,10),\n",
    "                                  tile_dpi=150,\n",
    "                                  segment_key='Segment',\n",
    "                                  normalize_total=True,\n",
    "                                  log1p=True,\n",
    "                                  max_workers=6):\n",
    "    \"\"\"Run per-gene SPIX rendering in parallel (per-process), then assemble grid.\"\"\"\n",
    "    if not genes:\n",
    "        warnings.warn(f\"[{group_name}] No genes to render.\")\n",
    "        return None\n",
    "\n",
    "    os.makedirs(out_dir, exist_ok=True)\n",
    "    tmp_dir = os.path.join(out_dir, f\"tiles_{group_name}\")\n",
    "    os.makedirs(tmp_dir, exist_ok=True)\n",
    "\n",
    "    out_png = os.path.join(out_dir, f\"grid_{group_name}.png\")\n",
    "\n",
    "    # Submit jobs\n",
    "    futures = []\n",
    "    ordered_tiles = [os.path.join(tmp_dir, f\"{g}.png\") for g in genes]\n",
    "    with ProcessPoolExecutor(max_workers=max_workers) as ex:\n",
    "        for g, png in zip(genes, ordered_tiles):\n",
    "            futures.append(\n",
    "                ex.submit(\n",
    "                    _render_gene_png_worker,\n",
    "                    g, png,\n",
    "                    segment_key, normalize_total, log1p,\n",
    "                    f\"{group_name} | \",\n",
    "                    tile_figsize, tile_dpi\n",
    "                )\n",
    "            )\n",
    "        # Ensure all complete (also catches exceptions early)\n",
    "        for f in as_completed(futures):\n",
    "            _ = f.result()\n",
    "\n",
    "    # Assemble in original order\n",
    "    existing_tiles = [p for p in ordered_tiles if os.path.exists(p)]\n",
    "    _assemble_grid(existing_tiles, out_path=out_png, cols=cols, suptitle=f\"{group_name} (n={len(existing_tiles)})\", dpi=tile_dpi)\n",
    "\n",
    "    print(f\"[Saved] {out_png}\")\n",
    "    return out_png\n"
   ]
  },
  {
   "cell_type": "code",
   "execution_count": null,
   "id": "4d2be833-e330-4b48-af47-c923b8c6faff",
   "metadata": {},
   "outputs": [],
   "source": []
  },
  {
   "cell_type": "code",
   "execution_count": null,
   "id": "f044f225-dcbb-43c0-a51b-ea9f020b0b3a",
   "metadata": {
    "execution": {
     "iopub.execute_input": "2025-10-07T12:06:56.355566Z",
     "iopub.status.busy": "2025-10-07T12:06:56.355421Z",
     "iopub.status.idle": "2025-10-07T12:09:45.342279Z",
     "shell.execute_reply": "2025-10-07T12:09:45.340712Z",
     "shell.execute_reply.started": "2025-10-07T12:06:56.355552Z"
    }
   },
   "outputs": [],
   "source": [
    "matplotlib.use(\"Agg\")  # no GUI backend inside workers\n",
    "# ==============================================================\n",
    "# 4) RUN: make top lists & build grids\n",
    "# ==============================================================\n",
    "\n",
    "TOP_K = 10                 # number of genes per group\n",
    "GROUP_COLS = 5             # columns in grid\n",
    "TILE_FIGSIZE = (10, 10)    # per-tile SPIX figure size\n",
    "TILE_DPI = 400\n",
    "MAX_WORKERS = 10\n",
    "SEGMENT_KEY = \"Segment\"\n",
    "NORMALIZE_TOTAL = True\n",
    "LOG1P = True\n",
    "\n",
    "OUT_DIR = \"./spix_1007_MOSTA_multiscale\"\n",
    "\n",
    "build_grid_for_group_parallel(\n",
    "    group_name=f\"moran_late_500_top{TOP_K}\",\n",
    "    genes=df[df['category']=='late'].sort_values('mean_late').head(10).index.tolist(),\n",
    "    out_dir=OUT_DIR,\n",
    "    cols=GROUP_COLS,\n",
    "    tile_figsize=TILE_FIGSIZE,\n",
    "    tile_dpi=TILE_DPI,\n",
    "    segment_key=SEGMENT_KEY,\n",
    "    normalize_total=NORMALIZE_TOTAL,\n",
    "    log1p=LOG1P,\n",
    "    max_workers=MAX_WORKERS\n",
    ")\n",
    "\n",
    "build_grid_for_group_parallel(\n",
    "    group_name=f\"moran_late_m_mid_500_top{TOP_K}\",\n",
    "    genes=df[df['category']=='late'].sort_values('late_m_mid',ascending=True).head(10).index.tolist(),\n",
    "    out_dir=OUT_DIR,\n",
    "    cols=GROUP_COLS,\n",
    "    tile_figsize=TILE_FIGSIZE,\n",
    "    tile_dpi=TILE_DPI,\n",
    "    segment_key=SEGMENT_KEY,\n",
    "    normalize_total=NORMALIZE_TOTAL,\n",
    "    log1p=LOG1P,\n",
    "    max_workers=MAX_WORKERS\n",
    ")\n",
    "\n",
    "import matplotlib\n",
    "import matplotlib.pyplot as plt\n",
    "\n",
    "# Switch back to Jupyter's inline backend\n",
    "plt.switch_backend('module://matplotlib_inline.backend_inline')\n"
   ]
  },
  {
   "cell_type": "code",
   "execution_count": null,
   "id": "b60965b2-e0b4-486c-8590-73d5c22f60e0",
   "metadata": {},
   "outputs": [],
   "source": []
  }
 ],
 "metadata": {
  "kernelspec": {
   "display_name": "SPIX_1007",
   "language": "python",
   "name": "spix_1007"
  },
  "language_info": {
   "codemirror_mode": {
    "name": "ipython",
    "version": 3
   },
   "file_extension": ".py",
   "mimetype": "text/x-python",
   "name": "python",
   "nbconvert_exporter": "python",
   "pygments_lexer": "ipython3",
   "version": "3.10.18"
  },
  "widgets": {
   "application/vnd.jupyter.widget-state+json": {
    "state": {},
    "version_major": 2,
    "version_minor": 0
   }
  }
 },
 "nbformat": 4,
 "nbformat_minor": 5
}
