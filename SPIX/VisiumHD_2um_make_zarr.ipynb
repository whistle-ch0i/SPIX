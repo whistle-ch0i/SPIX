{
 "cells": [
  {
   "cell_type": "code",
   "execution_count": null,
   "id": "3ab1d0e0",
   "metadata": {
    "vscode": {
     "languageId": "plaintext"
    }
   },
   "outputs": [],
   "source": [
    "# https://www.10xgenomics.com/platforms/visium/product-family/dataset-human-crc\n",
    "VisiumHD_SampleP2_CRC"
   ]
  },
  {
   "cell_type": "code",
   "execution_count": null,
   "id": "e70c690c",
   "metadata": {
    "vscode": {
     "languageId": "plaintext"
    }
   },
   "outputs": [],
   "source": [
    "import spatialdata_io"
   ]
  },
  {
   "cell_type": "code",
   "execution_count": null,
   "id": "f236d2c9",
   "metadata": {
    "vscode": {
     "languageId": "plaintext"
    }
   },
   "outputs": [],
   "source": [
    "sdata = spatialdata_io.visium_hd('/home/NAS/ghlqls/NAS_Others/Hackathon_Data/VisiumHD_SampleP2_CRC/',bin_size=2)"
   ]
  },
  {
   "cell_type": "code",
   "execution_count": null,
   "metadata": {
    "vscode": {
     "languageId": "plaintext"
    }
   },
   "outputs": [],
   "source": [
    "adata = sdata.tables['square_002um'].copy()"
   ]
  },
  {
   "cell_type": "code",
   "execution_count": null,
   "id": "71b7f221",
   "metadata": {
    "vscode": {
     "languageId": "plaintext"
    }
   },
   "outputs": [],
   "source": [
    "adata.write_zarr('CRC_P2_2um)"
   ]
  }
 ],
 "metadata": {
  "language_info": {
   "name": "python"
  }
 },
 "nbformat": 4,
 "nbformat_minor": 5
}
