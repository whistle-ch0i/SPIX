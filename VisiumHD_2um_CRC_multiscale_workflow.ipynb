{
 "cells": [
  {
   "cell_type": "markdown",
   "id": "11a72d38",
   "metadata": {},
   "source": [
    "# Loading Package"
   ]
  },
  {
   "cell_type": "code",
   "execution_count": null,
   "id": "f05861f1-667f-4ce5-80e9-4e1775f9b2af",
   "metadata": {
    "execution": {
     "iopub.execute_input": "2025-10-07T12:51:35.209596Z",
     "iopub.status.busy": "2025-10-07T12:51:35.209141Z",
     "iopub.status.idle": "2025-10-07T12:51:35.220068Z",
     "shell.execute_reply": "2025-10-07T12:51:35.219005Z",
     "shell.execute_reply.started": "2025-10-07T12:51:35.209543Z"
    }
   },
   "outputs": [],
   "source": [
    "import os\n",
    "\n",
    "# Limit the number of threads for underlying BLAS/OpenMP libraries\n",
    "os.environ[\"OMP_NUM_THREADS\"] = \"64\"         # OpenMP threads\n",
    "os.environ[\"OPENBLAS_NUM_THREADS\"] = \"64\"      # OpenBLAS threads\n",
    "os.environ[\"MKL_NUM_THREADS\"] = \"64\"           # MKL threads\n",
    "os.environ[\"NUMEXPR_NUM_THREADS\"] = \"64\"       # NumExpr threads"
   ]
  },
  {
   "cell_type": "code",
   "execution_count": null,
   "id": "eac22a64-1dfa-4531-827a-e901fee57675",
   "metadata": {
    "execution": {
     "iopub.execute_input": "2025-10-07T12:51:35.221629Z",
     "iopub.status.busy": "2025-10-07T12:51:35.221317Z",
     "iopub.status.idle": "2025-10-07T12:51:42.199906Z",
     "shell.execute_reply": "2025-10-07T12:51:42.198846Z",
     "shell.execute_reply.started": "2025-10-07T12:51:35.221596Z"
    }
   },
   "outputs": [],
   "source": [
    "import SPIX\n",
    "from SPIX.image_processing.image_cache import *\n",
    "import pandas as pd\n",
    "import scanpy as sc\n",
    "import squidpy as sq\n",
    "import numpy as np\n",
    "import squidpy as sq\n",
    "import matplotlib.pyplot as plt\n",
    "import anndata as ad\n"
   ]
  },
  {
   "cell_type": "markdown",
   "id": "7f826475",
   "metadata": {},
   "source": [
    "# Multiscale Workflow - 2um VisiumHD CRC data"
   ]
  },
  {
   "cell_type": "code",
   "execution_count": null,
   "id": "fd6252d5",
   "metadata": {},
   "outputs": [],
   "source": [
    "SPIX"
   ]
  },
  {
   "cell_type": "code",
   "execution_count": null,
   "id": "44ab9102-adc4-4dfb-a8f0-57ee99534b84",
   "metadata": {
    "execution": {
     "iopub.execute_input": "2025-10-07T12:51:42.201252Z",
     "iopub.status.busy": "2025-10-07T12:51:42.200746Z",
     "iopub.status.idle": "2025-10-07T12:51:49.875455Z",
     "shell.execute_reply": "2025-10-07T12:51:49.874099Z",
     "shell.execute_reply.started": "2025-10-07T12:51:42.201234Z"
    }
   },
   "outputs": [],
   "source": [
    "adata = ad.read_zarr('/home/Data_Drive_8TB/chs1151/clean_up/SPIX/CRC_P2_2um')"
   ]
  },
  {
   "cell_type": "code",
   "execution_count": null,
   "id": "191cda5d-7be7-4df4-9a13-153e349e1df7",
   "metadata": {
    "execution": {
     "iopub.execute_input": "2025-10-07T12:51:49.876553Z",
     "iopub.status.busy": "2025-10-07T12:51:49.876356Z",
     "iopub.status.idle": "2025-10-07T12:53:28.188934Z",
     "shell.execute_reply": "2025-10-07T12:53:28.187726Z",
     "shell.execute_reply.started": "2025-10-07T12:51:49.876533Z"
    }
   },
   "outputs": [],
   "source": [
    "adata = SPIX.tm.generate_embeddings(\n",
    "    adata,\n",
    "    dim_reduction='PCA',\n",
    "    normalization='log_norm', \n",
    "    n_jobs=32,\n",
    "    dimensions=30,\n",
    "    nfeatures=2000,\n",
    "    use_coords_as_tiles=True,\n",
    "    coords_max_gap_factor=None,\n",
    "    force=True,\n",
    "    use_hvg_only=True,\n",
    "    raster_stride=10,\n",
    "    filter_threshold=1,\n",
    "    raster_max_pixels_per_tile=400,\n",
    "    raster_random_seed=42\n",
    ")\n"
   ]
  },
  {
   "cell_type": "code",
   "execution_count": null,
   "id": "08d83e99-38ee-4aa6-b2f9-13eeaa7f443a",
   "metadata": {
    "execution": {
     "iopub.execute_input": "2025-10-07T12:53:39.731017Z",
     "iopub.status.busy": "2025-10-07T12:53:39.730541Z",
     "iopub.status.idle": "2025-10-07T12:56:51.319534Z",
     "shell.execute_reply": "2025-10-07T12:56:51.318332Z",
     "shell.execute_reply.started": "2025-10-07T12:53:39.731001Z"
    }
   },
   "outputs": [],
   "source": [
    "adata = SPIX.ip.smooth_image(\n",
    "    adata,\n",
    "    methods=['graph','gaussian'],\n",
    "    embedding='X_embedding',\n",
    "    embedding_dims = list(range(30)),\n",
    "    graph_k=30,\n",
    "    graph_t=20,\n",
    "    gaussian_sigma=300,\n",
    "    n_jobs=10,\n",
    "    rescale_mode='final',\n",
    ")"
   ]
  },
  {
   "cell_type": "code",
   "execution_count": null,
   "id": "54c1bed0-73ac-4b28-b2eb-5e63039139ae",
   "metadata": {
    "execution": {
     "iopub.execute_input": "2025-10-07T12:57:03.408472Z",
     "iopub.status.busy": "2025-10-07T12:57:03.408282Z",
     "iopub.status.idle": "2025-10-07T12:57:15.497536Z",
     "shell.execute_reply": "2025-10-07T12:57:15.496132Z",
     "shell.execute_reply.started": "2025-10-07T12:57:03.408455Z"
    }
   },
   "outputs": [],
   "source": [
    "adata = SPIX.ip.equalize_image(\n",
    "    adata,\n",
    "    dimensions=list(range(30)),\n",
    "    embedding='X_embedding_smooth',\n",
    "    sleft=5,sright=5\n",
    ")"
   ]
  },
  {
   "cell_type": "code",
   "execution_count": null,
   "id": "879340ae-12ea-4499-9806-835d8ea4ffb3",
   "metadata": {
    "execution": {
     "iopub.execute_input": "2025-10-07T12:57:28.118834Z",
     "iopub.status.busy": "2025-10-07T12:57:28.118611Z",
     "iopub.status.idle": "2025-10-07T12:58:05.988757Z",
     "shell.execute_reply": "2025-10-07T12:58:05.987831Z",
     "shell.execute_reply.started": "2025-10-07T12:57:28.118812Z"
    },
    "scrolled": true
   },
   "outputs": [],
   "source": [
    "cache_embedding_image(adata, embedding='X_embedding_equalize',\n",
    "                            dimensions=list(range(30)), \n",
    "                            key='image_plot_slic',\n",
    "                            origin=True,\n",
    "                            figsize=(30,30),\n",
    "                            fig_dpi=100,\n",
    "                            verbose=False,show=True)"
   ]
  },
  {
   "cell_type": "code",
   "execution_count": null,
   "id": "33d3589c",
   "metadata": {},
   "outputs": [],
   "source": [
    "SPIX.sp.segment_image(\n",
    "    adata,\n",
    "    dimensions=list(range(30)),\n",
    "     embedding='X_embedding_equalize',\n",
    "     method='image_plot_slic',\n",
    "    pitch_um=2,\n",
    "    target_segment_um=500,\n",
    "     compactness=0.5,\n",
    "     verbose=True,\n",
    "    figsize = (30, 30),\n",
    "    use_cached_image=True,\n",
    "    enforce_connectivity=False,\n",
    "     origin=True,\n",
    "    show_image=True\n",
    ")"
   ]
  },
  {
   "cell_type": "code",
   "execution_count": null,
   "id": "f005e5f8",
   "metadata": {},
   "outputs": [],
   "source": [
    "SPIX.pl.image_plot(\n",
    "    adata,\n",
    "    dimensions=[0, 1, 2],\n",
    "    embedding='X_embedding_segment',\n",
    "    boundary_method='pixel',\n",
    "    figsize=(10, 10),     # Adjust figure size here\n",
    "    fixed_boundary_color='black',\n",
    "    boundary_linewidth=1,\n",
    "    alpha=1,\n",
    "    plot_boundaries=True,\n",
    "    origin=True\n",
    ")"
   ]
  },
  {
   "cell_type": "code",
   "execution_count": null,
   "id": "adf7efe9-afed-42ed-9c2f-f9262e044848",
   "metadata": {
    "execution": {
     "iopub.execute_input": "2025-10-07T13:01:12.093142Z",
     "iopub.status.busy": "2025-10-07T13:01:12.092896Z",
     "iopub.status.idle": "2025-10-07T13:02:21.121481Z",
     "shell.execute_reply": "2025-10-07T13:02:21.120242Z",
     "shell.execute_reply.started": "2025-10-07T13:01:12.093120Z"
    }
   },
   "outputs": [],
   "source": [
    "sq.gr.spatial_neighbors(adata, coord_type='generic')"
   ]
  },
  {
   "cell_type": "code",
   "execution_count": null,
   "id": "e829902d-d775-4cd5-a864-05a279612d4f",
   "metadata": {
    "execution": {
     "iopub.execute_input": "2025-10-07T13:02:21.122833Z",
     "iopub.status.busy": "2025-10-07T13:02:21.122589Z",
     "iopub.status.idle": "2025-10-07T13:14:15.292219Z",
     "shell.execute_reply": "2025-10-07T13:14:15.289669Z",
     "shell.execute_reply.started": "2025-10-07T13:02:21.122811Z"
    },
    "scrolled": true
   },
   "outputs": [],
   "source": [
    "# multiscale_svg_advanced2.py\n",
    "import os, gc, tempfile, shutil, warnings, itertools\n",
    "import numpy as np, pandas as pd, scanpy as sc, seaborn as sns, matplotlib.pyplot as plt\n",
    "from joblib import Parallel, delayed\n",
    "from scipy.stats import rankdata\n",
    "from sklearn.mixture import GaussianMixture\n",
    "\n",
    "#################################\n",
    "# 1) Setting\n",
    "#################################\n",
    "resolutions    = [2,8,16,30,50,100,250,500]\n",
    "compactnesses  = [0.5]\n",
    "dims_use       = list(range(30))\n",
    "segment_method = 'image_plot_slic'\n",
    "embedding_key  = 'X_embedding_equalize'\n",
    "use_cached_image=True,\n",
    "moran_thresh   = 0      # MoranI threshold\n",
    "n_jobs         = 3\n",
    "top_changed    = 100\n",
    "use_memmap     = False    # True: h5ad \n",
    "\n",
    "#################################\n",
    "# 2) single-scale calculation function\n",
    "#################################\n",
    "def calc_scale(adata,scale_id, res, comp, adata_path=None):\n",
    "    if adata_path:\n",
    "        ad = sc.read_h5ad(adata_path)\n",
    "    else:\n",
    "        ad = adata.copy()\n",
    "    # segmentation\n",
    "    SPIX.sp.segment_image(\n",
    "        ad,\n",
    "        dimensions=dims_use,\n",
    "        embedding=embedding_key,\n",
    "        method=segment_method,\n",
    "        target_segment_um=res,\n",
    "        compactness=comp,\n",
    "        figsize = (30, 30),\n",
    "        enforce_connectivity=False,\n",
    "        use_cached_image=use_cached_image,\n",
    "        origin=True,\n",
    "        verbose=False\n",
    "    )\n",
    "    # pseudo-bulk Moran\n",
    "    _, moran = SPIX.an.perform_pseudo_bulk_analysis(\n",
    "        ad,\n",
    "        segment_key='Segment',\n",
    "        normalize_total=True,\n",
    "        log_transform=True,\n",
    "        expr_agg='sum',\n",
    "        moranI_threshold=moran_thresh,\n",
    "        segment_graph_strategy='collapsed',\n",
    "        collapse_row_normalize=True,\n",
    "        perform_pca=False,\n",
    "        highly_variable=False,\n",
    "        mode='moran'\n",
    "    )\n",
    "    if moran.empty:\n",
    "        warnings.warn(f\"[{scale_id}] No MoranI result \")\n",
    "        return pd.DataFrame()\n",
    "    # rank \n",
    "    moran['rank_'+scale_id] = rankdata(-moran['I'], method='min')\n",
    "    return moran[['rank_'+scale_id]]\n",
    "\n",
    "#################################\n",
    "# 3) parallel calculation\n",
    "#################################\n",
    "param_grid = list(itertools.product(resolutions, compactnesses))\n",
    "print(f\"▶ Total {len(param_grid)} scales \")\n",
    "\n",
    "adata_path = None\n",
    "if use_memmap:\n",
    "    td = tempfile.mkdtemp()\n",
    "    adata_path = os.path.join(td, 'adata_tmp.h5ad')\n",
    "    adata.write_h5ad(adata_path)\n",
    "\n",
    "results = Parallel(n_jobs=n_jobs, backend='loky', verbose=10)(\n",
    "    delayed(calc_scale)(adata,f\"r{r}_c{c}\", r, c, adata_path)\n",
    "    for r, c in param_grid\n",
    ")\n",
    "\n",
    "if use_memmap:\n",
    "    shutil.rmtree(td)\n",
    "\n"
   ]
  },
  {
   "cell_type": "code",
   "execution_count": null,
   "id": "dbec2414-158f-466f-8be2-315398958332",
   "metadata": {},
   "outputs": [],
   "source": []
  },
  {
   "cell_type": "code",
   "execution_count": null,
   "id": "d28c228b-ee8e-43f4-ac80-a60556780bc9",
   "metadata": {
    "execution": {
     "iopub.execute_input": "2025-10-07T13:14:15.296007Z",
     "iopub.status.busy": "2025-10-07T13:14:15.295625Z",
     "iopub.status.idle": "2025-10-07T13:14:15.704069Z",
     "shell.execute_reply": "2025-10-07T13:14:15.702982Z",
     "shell.execute_reply.started": "2025-10-07T13:14:15.295975Z"
    }
   },
   "outputs": [],
   "source": [
    "\n",
    "# concat rank table\n",
    "rank_tables = [df for df in results if not df.empty]\n",
    "\n",
    "rank_mat = pd.concat(rank_tables, axis=1, join='outer')\n",
    "max_rank = int(rank_mat.max().max())\n",
    "rank_mat = rank_mat.fillna(max_rank + 1)\n",
    "\n",
    "rank_mat.sort_index(axis=1, inplace=True)  \n",
    "\n",
    "#################################\n",
    "# 5) resolution / compactness axis\n",
    "#################################\n",
    "# resolution axis\n",
    "res_rank = pd.DataFrame(index=rank_mat.index)\n",
    "for r in resolutions:\n",
    "    cols = [f\"rank_r{r}_c{c}\" for c in compactnesses]\n",
    "    res_rank[f\"res_{r}\"] = rank_mat[cols].mean(axis=1)\n",
    "\n",
    "# compactness axis\n",
    "comp_rank = pd.DataFrame(index=rank_mat.index)\n",
    "for c in compactnesses:\n",
    "    cols = [f\"rank_r{r}_c{c}\" for r in resolutions]\n",
    "    comp_rank[f\"comp_{c}\"] = rank_mat[cols].mean(axis=1)\n"
   ]
  },
  {
   "cell_type": "code",
   "execution_count": null,
   "id": "9c490e71-c0fb-49e0-9531-6fea92c7ec55",
   "metadata": {
    "execution": {
     "iopub.execute_input": "2025-10-07T13:14:15.720698Z",
     "iopub.status.busy": "2025-10-07T13:14:15.720500Z",
     "iopub.status.idle": "2025-10-07T13:14:15.733603Z",
     "shell.execute_reply": "2025-10-07T13:14:15.732893Z",
     "shell.execute_reply.started": "2025-10-07T13:14:15.720656Z"
    }
   },
   "outputs": [],
   "source": [
    "df = res_rank.copy()"
   ]
  },
  {
   "cell_type": "code",
   "execution_count": null,
   "id": "e5f22fcc-f48d-4d6c-87f1-e05da5ba5ba3",
   "metadata": {
    "execution": {
     "iopub.execute_input": "2025-10-07T14:08:44.448323Z",
     "iopub.status.busy": "2025-10-07T14:08:44.447969Z",
     "iopub.status.idle": "2025-10-07T14:08:44.617818Z",
     "shell.execute_reply": "2025-10-07T14:08:44.617021Z",
     "shell.execute_reply.started": "2025-10-07T14:08:44.448300Z"
    }
   },
   "outputs": [],
   "source": [
    "import pandas as pd\n",
    "\n",
    "# Define regions by column names\n",
    "early_cols = ['res_2', 'res_8','res_16']\n",
    "mid_cols   = ['res_30','res_50','res_100']\n",
    "late_cols  = ['res_250','res_500']\n",
    "\n",
    "\n",
    "# Compute mean rank in each region\n",
    "df['mean_early'] = df[early_cols].mean(axis=1)\n",
    "df['mean_mid']   = df[mid_cols].mean(axis=1)\n",
    "df['mean_late']  = df[late_cols].mean(axis=1)\n",
    "\n",
    "# Set threshold ratio: difference between 1st and 2nd smallest mean must be >= this\n",
    "# threshold_ratio = 0.7  # e.g., 20%\n",
    "threshold_ratio = 0.93  # e.g., 20%\n",
    "\n",
    "def categorize_with_threshold(row):\n",
    "    # collect region means\n",
    "    regions = {\n",
    "        'early': row['mean_early'],\n",
    "        'mid':   row['mean_mid'],\n",
    "        'late':  row['mean_late']\n",
    "    }\n",
    "    # sort regions by mean ascending\n",
    "    sorted_regs = sorted(regions.items(), key=lambda x: x[1])\n",
    "    # lowest and second-lowest\n",
    "    (reg1, val1), (reg2, val2) = sorted_regs[0], sorted_regs[1]\n",
    "    # check relative difference\n",
    "    # if absolute or relative difference is big enough, assign; else mixed\n",
    "    if (val2 - val1) / val2 >= threshold_ratio:\n",
    "        return reg1\n",
    "    else:\n",
    "        return 'mixed'\n",
    "\n",
    "# Apply categorization\n",
    "df['category'] = df.apply(categorize_with_threshold, axis=1)\n",
    "\n",
    "# Optional: view how many genes fall in each category\n",
    "print(df['category'].value_counts())\n",
    "\n",
    "# Optional: inspect sample\n",
    "print(df[['mean_early','mean_mid','mean_late','category']].head())\n"
   ]
  },
  {
   "cell_type": "code",
   "execution_count": null,
   "id": "86423e10-4c16-4d48-ac22-87959ee0a362",
   "metadata": {
    "execution": {
     "iopub.execute_input": "2025-10-07T13:14:15.919929Z",
     "iopub.status.busy": "2025-10-07T13:14:15.919670Z",
     "iopub.status.idle": "2025-10-07T13:14:15.924991Z",
     "shell.execute_reply": "2025-10-07T13:14:15.924050Z",
     "shell.execute_reply.started": "2025-10-07T13:14:15.919908Z"
    }
   },
   "outputs": [],
   "source": [
    "def plot_traj(df, genes, xlabel, title):\n",
    "    plt.figure(figsize=(8,4))\n",
    "    x = np.arange(df.shape[1])\n",
    "    for g in genes:\n",
    "        plt.plot(x, df.loc[g], '-o', alpha=0.7, label=g)\n",
    "    plt.gca().invert_yaxis()\n",
    "    plt.xticks(x, df.columns, rotation=45)\n",
    "    plt.xlabel(xlabel); plt.ylabel('Rank')\n",
    "    plt.title(title)\n",
    "    plt.legend(bbox_to_anchor=(1.02,1), loc='upper left', fontsize=8)\n",
    "    plt.tight_layout(); plt.show()"
   ]
  },
  {
   "cell_type": "code",
   "execution_count": null,
   "id": "dafe0406",
   "metadata": {},
   "outputs": [],
   "source": [
    "df['late_m_mid'] = df['mean_late']-df['mean_mid']"
   ]
  },
  {
   "cell_type": "code",
   "execution_count": null,
   "id": "5f139d5e",
   "metadata": {},
   "outputs": [],
   "source": [
    "plot_traj(res_rank,df[df['category']=='early'].sort_values('mean_early').head(10).index.tolist(), 'Resolution', 'Unique in high resolution')"
   ]
  },
  {
   "cell_type": "code",
   "execution_count": null,
   "id": "8b4adab8",
   "metadata": {},
   "outputs": [],
   "source": [
    "plot_traj(res_rank,df[df['category']=='late'].sort_values('mean_late').head(10).index.tolist(), 'Resolution', 'Unique in low resolution')"
   ]
  },
  {
   "cell_type": "code",
   "execution_count": null,
   "id": "bf8d58a5",
   "metadata": {},
   "outputs": [],
   "source": [
    "plot_traj(res_rank,df[df['category']=='late'].sort_values('mean_mid',ascending=False).head(10).index.tolist(), 'Resolution', 'Unique in low resolution')"
   ]
  },
  {
   "cell_type": "code",
   "execution_count": null,
   "id": "4eb6ad3e",
   "metadata": {},
   "outputs": [],
   "source": [
    "plot_traj(res_rank,df[df['category']=='early'].sort_values('mean_mid',ascending=False).head(10).index.tolist(), 'Resolution', 'Unique in middle resolution')"
   ]
  },
  {
   "cell_type": "code",
   "execution_count": null,
   "id": "9a034f38",
   "metadata": {},
   "outputs": [],
   "source": []
  },
  {
   "cell_type": "code",
   "execution_count": null,
   "id": "f5f3435d-4ae4-4929-a00e-1dc8fa75b5e0",
   "metadata": {
    "execution": {
     "iopub.execute_input": "2025-10-07T11:51:09.828042Z",
     "iopub.status.busy": "2025-10-07T11:51:09.827608Z",
     "iopub.status.idle": "2025-10-07T11:51:09.831192Z",
     "shell.execute_reply": "2025-10-07T11:51:09.830554Z",
     "shell.execute_reply.started": "2025-10-07T11:51:09.828006Z"
    }
   },
   "outputs": [],
   "source": [
    "gene = 'LYVE1'"
   ]
  },
  {
   "cell_type": "code",
   "execution_count": null,
   "id": "2b5096fd-ade2-4c0c-a93a-d94944450a5e",
   "metadata": {},
   "outputs": [],
   "source": []
  },
  {
   "cell_type": "code",
   "execution_count": null,
   "id": "32a59dcf-477e-430d-baf3-4eb31c2b4851",
   "metadata": {
    "execution": {
     "iopub.execute_input": "2025-10-07T11:51:10.812431Z",
     "iopub.status.busy": "2025-10-07T11:51:10.812105Z",
     "iopub.status.idle": "2025-10-07T11:51:11.519608Z",
     "shell.execute_reply": "2025-10-07T11:51:11.518784Z",
     "shell.execute_reply.started": "2025-10-07T11:51:10.812402Z"
    }
   },
   "outputs": [],
   "source": [
    "SPIX.an.add_gene_expression_embedding(adata,genes=[gene],segment_key=None,normalize_total=True,log1p=True)"
   ]
  },
  {
   "cell_type": "code",
   "execution_count": null,
   "id": "88861d48-7522-449f-b23f-3bbec111fd53",
   "metadata": {},
   "outputs": [],
   "source": []
  },
  {
   "cell_type": "code",
   "execution_count": null,
   "id": "9f90aec9-1507-4609-970f-7cb3aa92c352",
   "metadata": {
    "execution": {
     "iopub.execute_input": "2025-10-07T11:51:12.077609Z",
     "iopub.status.busy": "2025-10-07T11:51:12.077143Z",
     "iopub.status.idle": "2025-10-07T11:51:22.305860Z",
     "shell.execute_reply": "2025-10-07T11:51:22.304836Z",
     "shell.execute_reply.started": "2025-10-07T11:51:12.077591Z"
    }
   },
   "outputs": [],
   "source": [
    "SPIX.pl.image_plot(\n",
    "    adata,\n",
    "    dimensions=[0],\n",
    "    embedding='X_gene_embedding',\n",
    "    boundary_method='pixel',\n",
    "    # imshow_scale_factor=1,\n",
    "    figsize=(10, 10),     # Adjust figure size here\n",
    "    # scaling_factor=2,    # Adjust point size here\n",
    "    fixed_boundary_color='Black',\n",
    "    cmap='viridis',\n",
    "    boundary_linewidth=1,\n",
    "    show_colorbar=True,\n",
    "    prioritize_high_values=True,\n",
    "    title=gene,\n",
    "    alpha=1,\n",
    "    plot_boundaries=False,\n",
    "    origin=True\n",
    ")"
   ]
  },
  {
   "cell_type": "code",
   "execution_count": null,
   "id": "ffa70c5f-f076-47f0-b8f4-f80c72a7aab6",
   "metadata": {
    "execution": {
     "iopub.execute_input": "2025-10-07T11:51:22.306952Z",
     "iopub.status.busy": "2025-10-07T11:51:22.306776Z",
     "iopub.status.idle": "2025-10-07T11:51:23.276169Z",
     "shell.execute_reply": "2025-10-07T11:51:23.275382Z",
     "shell.execute_reply.started": "2025-10-07T11:51:22.306933Z"
    }
   },
   "outputs": [],
   "source": [
    "SPIX.an.add_gene_expression_embedding(adata,genes=[gene],segment_key='Segment',normalize_total=True,log1p=True)"
   ]
  },
  {
   "cell_type": "code",
   "execution_count": null,
   "id": "73763fab-760e-48b2-8a7b-a6eb9f0841fe",
   "metadata": {
    "execution": {
     "iopub.execute_input": "2025-10-07T11:51:23.276804Z",
     "iopub.status.busy": "2025-10-07T11:51:23.276638Z",
     "iopub.status.idle": "2025-10-07T11:51:34.004905Z",
     "shell.execute_reply": "2025-10-07T11:51:34.004051Z",
     "shell.execute_reply.started": "2025-10-07T11:51:23.276789Z"
    }
   },
   "outputs": [],
   "source": [
    "SPIX.pl.image_plot(\n",
    "    adata,\n",
    "    dimensions=[0],\n",
    "    embedding='X_gene_embedding',\n",
    "    boundary_method='pixel',\n",
    "    figsize=(10, 10),     # Adjust figure size here\n",
    "    # scaling_factor=2,    # Adjust point size here\n",
    "    fixed_boundary_color='Black',\n",
    "    cmap='viridis',\n",
    "    boundary_linewidth=1,\n",
    "    show_colorbar=True,\n",
    "    prioritize_high_values=True,\n",
    "    title=gene,\n",
    "    alpha=1,\n",
    "    plot_boundaries=False,\n",
    "    origin=True\n",
    ")"
   ]
  },
  {
   "cell_type": "code",
   "execution_count": null,
   "id": "ad672002-4c71-491d-a8dc-83a15bf496d0",
   "metadata": {
    "execution": {
     "iopub.execute_input": "2025-10-07T11:50:02.373866Z",
     "iopub.status.busy": "2025-10-07T11:50:02.373694Z",
     "iopub.status.idle": "2025-10-07T11:50:02.388315Z",
     "shell.execute_reply": "2025-10-07T11:50:02.387848Z",
     "shell.execute_reply.started": "2025-10-07T11:50:02.373848Z"
    }
   },
   "outputs": [],
   "source": [
    "# ==============================================================\n",
    "# Parallel SPIX grids using in-memory `adata` (no disk reload)\n",
    "# - Works best on Linux with 'fork' start method.\n",
    "# - Each worker process inherits the parent's memory (copy-on-write),\n",
    "#   so we can use the global `adata` directly without reloading.\n",
    "# ==============================================================\n",
    "\n",
    "import os\n",
    "import math\n",
    "import warnings\n",
    "import gc\n",
    "from typing import List, Tuple\n",
    "import matplotlib\n",
    "import matplotlib.pyplot as plt\n",
    "from PIL import Image\n",
    "import numpy as np\n",
    "import pandas as pd\n",
    "from concurrent.futures import ProcessPoolExecutor, as_completed\n",
    "import multiprocessing as mp\n",
    "\n",
    "# Try to enforce 'fork' (Linux). On macOS/Windows this may fail and fall back.\n",
    "try:\n",
    "    mp.set_start_method(\"fork\", force=True)\n",
    "except RuntimeError:\n",
    "    # Already set or platform doesn't support 'fork'\n",
    "    pass\n",
    "\n",
    "# -----------------------------\n",
    "# 0) Helpers: ranking + lists\n",
    "# -----------------------------\n",
    "\n",
    "\n",
    "# -----------------------------------------\n",
    "# 1) Worker: render one gene (uses global adata)\n",
    "# -----------------------------------------\n",
    "def _render_gene_png_worker(gene: str,\n",
    "                            out_png: str,\n",
    "                            segment_key: str,\n",
    "                            normalize_total: bool,\n",
    "                            log1p: bool,\n",
    "                            title_prefix: str,\n",
    "                            tile_figsize: tuple,\n",
    "                            tile_dpi: int):\n",
    "    \"\"\"\n",
    "    Executed in a child process.\n",
    "    Uses globally inherited `adata` and `SPIX` (via fork on Linux).\n",
    "    - Compute single-gene embedding -> dimensions=[0]\n",
    "    - Plot and save PNG\n",
    "    \"\"\"\n",
    "    # Import here so that child process resolves the same modules\n",
    "    import SPIX\n",
    "    import matplotlib.pyplot as plt\n",
    "\n",
    "    global adata  # inherited via fork (Linux). On spawn, this may copy/pickle (slower).\n",
    "\n",
    "    # Gracefully handle missing gene\n",
    "    if str(gene) not in set(map(str, adata.var_names)):\n",
    "        fig = plt.figure(figsize=tile_figsize)\n",
    "        plt.text(0.5, 0.5, f\"{title_prefix}{gene}\\n(not in var_names)\", ha='center', va='center')\n",
    "        plt.axis('off')\n",
    "        fig.savefig(out_png, dpi=tile_dpi, bbox_inches='tight')\n",
    "        plt.close(fig)\n",
    "        return out_png\n",
    "\n",
    "    # Compute single-gene embedding (overwrites X_gene_embedding in THIS process only)\n",
    "    SPIX.an.add_gene_expression_embedding(\n",
    "        adata,\n",
    "        genes=[gene],\n",
    "        segment_key=segment_key,\n",
    "        normalize_total=normalize_total,\n",
    "        log1p=log1p\n",
    "    )\n",
    "\n",
    "    # Plot using the single dimension [0]\n",
    "    SPIX.pl.image_plot(\n",
    "        adata,\n",
    "        dimensions=[0],                  # single dim only\n",
    "        embedding='X_gene_embedding',\n",
    "        boundary_method='pixel',\n",
    "        imshow_tile_size=10,\n",
    "        imshow_scale_factor=1,\n",
    "        figsize=tile_figsize,\n",
    "        fixed_boundary_color='Black',\n",
    "        cmap='viridis',\n",
    "        boundary_linewidth=1,\n",
    "        show_colorbar=True,\n",
    "        prioritize_high_values=True,\n",
    "        title=f\"{title_prefix}{gene}\",\n",
    "        alpha=1,\n",
    "        plot_boundaries=False,\n",
    "        origin=True\n",
    "    )\n",
    "    plt.savefig(out_png, dpi=tile_dpi, bbox_inches='tight')\n",
    "    plt.close()\n",
    "\n",
    "    # Cleanup in child\n",
    "    gc.collect()\n",
    "    return out_png\n",
    "\n",
    "# ------------------------------\n",
    "# 2) Grid assembly\n",
    "# ------------------------------\n",
    "def _assemble_grid(tile_paths: List[str], out_path: str, cols: int = 5, suptitle: str = \"\", dpi: int = 150):\n",
    "    \"\"\"Assemble saved PNG tiles into a grid figure.\"\"\"\n",
    "    rows = math.ceil(len(tile_paths)/cols) if tile_paths else 1\n",
    "    fig, axes = plt.subplots(rows, cols, figsize=(cols*4, rows*4), squeeze=False)\n",
    "    if suptitle:\n",
    "        fig.suptitle(suptitle, fontsize=16)\n",
    "    i = 0\n",
    "    for r in range(rows):\n",
    "        for c in range(cols):\n",
    "            ax = axes[r][c]\n",
    "            ax.axis('off')\n",
    "            if i < len(tile_paths):\n",
    "                img = Image.open(tile_paths[i])\n",
    "                ax.imshow(img)\n",
    "            i += 1\n",
    "    plt.tight_layout(rect=[0, 0, 1, 0.96])\n",
    "    plt.savefig(out_path, dpi=dpi, bbox_inches='tight')\n",
    "    plt.close(fig)\n",
    "\n",
    "# -------------------------------------------------------\n",
    "# 3) Orchestrator: real parallel pipeline per group\n",
    "# -------------------------------------------------------\n",
    "def build_grid_for_group_parallel(group_name: str,\n",
    "                                  genes: List[str],\n",
    "                                  out_dir: str = \"./spix_grids\",\n",
    "                                  cols: int = 5,\n",
    "                                  tile_figsize=(10,10),\n",
    "                                  tile_dpi=150,\n",
    "                                  segment_key='Segment',\n",
    "                                  normalize_total=True,\n",
    "                                  log1p=True,\n",
    "                                  max_workers=6):\n",
    "    \"\"\"Run per-gene SPIX rendering in parallel (per-process), then assemble grid.\"\"\"\n",
    "    if not genes:\n",
    "        warnings.warn(f\"[{group_name}] No genes to render.\")\n",
    "        return None\n",
    "\n",
    "    os.makedirs(out_dir, exist_ok=True)\n",
    "    tmp_dir = os.path.join(out_dir, f\"tiles_{group_name}\")\n",
    "    os.makedirs(tmp_dir, exist_ok=True)\n",
    "\n",
    "    out_png = os.path.join(out_dir, f\"grid_{group_name}.png\")\n",
    "\n",
    "    # Submit jobs\n",
    "    futures = []\n",
    "    ordered_tiles = [os.path.join(tmp_dir, f\"{g}.png\") for g in genes]\n",
    "    with ProcessPoolExecutor(max_workers=max_workers) as ex:\n",
    "        for g, png in zip(genes, ordered_tiles):\n",
    "            futures.append(\n",
    "                ex.submit(\n",
    "                    _render_gene_png_worker,\n",
    "                    g, png,\n",
    "                    segment_key, normalize_total, log1p,\n",
    "                    f\"{group_name} | \",\n",
    "                    tile_figsize, tile_dpi\n",
    "                )\n",
    "            )\n",
    "        # Ensure all complete (also catches exceptions early)\n",
    "        for f in as_completed(futures):\n",
    "            _ = f.result()\n",
    "\n",
    "    # Assemble in original order\n",
    "    existing_tiles = [p for p in ordered_tiles if os.path.exists(p)]\n",
    "    _assemble_grid(existing_tiles, out_path=out_png, cols=cols, suptitle=f\"{group_name} (n={len(existing_tiles)})\", dpi=tile_dpi)\n",
    "\n",
    "    print(f\"[Saved] {out_png}\")\n",
    "    return out_png\n"
   ]
  },
  {
   "cell_type": "code",
   "execution_count": null,
   "id": "587c18c0-2d2e-43e1-b925-e26d64e420bc",
   "metadata": {},
   "outputs": [],
   "source": []
  },
  {
   "cell_type": "code",
   "execution_count": null,
   "id": "ad1f7393-20ec-40dc-9ae2-6b5db4f2c709",
   "metadata": {
    "execution": {
     "iopub.execute_input": "2025-10-07T11:56:21.059180Z",
     "iopub.status.busy": "2025-10-07T11:56:21.058931Z",
     "iopub.status.idle": "2025-10-07T11:57:20.894775Z",
     "shell.execute_reply": "2025-10-07T11:57:20.893455Z",
     "shell.execute_reply.started": "2025-10-07T11:56:21.059163Z"
    }
   },
   "outputs": [],
   "source": [
    "matplotlib.use(\"Agg\")  # no GUI backend inside workers\n",
    "# ==============================================================\n",
    "# 4) RUN: make top lists & build grids\n",
    "# ==============================================================\n",
    "\n",
    "TOP_K = 10                 # number of genes per group\n",
    "GROUP_COLS = 5             # columns in grid\n",
    "TILE_FIGSIZE = (10, 10)    # per-tile SPIX figure size\n",
    "TILE_DPI = 400\n",
    "MAX_WORKERS = 10\n",
    "SEGMENT_KEY = \"Segment\"\n",
    "NORMALIZE_TOTAL = True\n",
    "LOG1P = True\n",
    "\n",
    "OUT_DIR = \"./spix_1007_MOSTA_multiscale\"\n",
    "\n",
    "build_grid_for_group_parallel(\n",
    "    group_name=f\"moran_late_500_top{TOP_K}\",\n",
    "    genes=df[df['category']=='late'].sort_values('mean_late').head(10).index.tolist(),\n",
    "    out_dir=OUT_DIR,\n",
    "    cols=GROUP_COLS,\n",
    "    tile_figsize=TILE_FIGSIZE,\n",
    "    tile_dpi=TILE_DPI,\n",
    "    segment_key=SEGMENT_KEY,\n",
    "    normalize_total=NORMALIZE_TOTAL,\n",
    "    log1p=LOG1P,\n",
    "    max_workers=MAX_WORKERS\n",
    ")\n",
    "\n",
    "build_grid_for_group_parallel(\n",
    "    group_name=f\"moran_late_m_mid_500_top{TOP_K}\",\n",
    "    genes=df[df['category']=='late'].sort_values('late_m_mid',ascending=True).head(10).index.tolist(),\n",
    "    out_dir=OUT_DIR,\n",
    "    cols=GROUP_COLS,\n",
    "    tile_figsize=TILE_FIGSIZE,\n",
    "    tile_dpi=TILE_DPI,\n",
    "    segment_key=SEGMENT_KEY,\n",
    "    normalize_total=NORMALIZE_TOTAL,\n",
    "    log1p=LOG1P,\n",
    "    max_workers=MAX_WORKERS\n",
    ")\n",
    "\n",
    "import matplotlib\n",
    "import matplotlib.pyplot as plt\n",
    "\n",
    "# Switch back to Jupyter's inline backend\n",
    "plt.switch_backend('module://matplotlib_inline.backend_inline')\n"
   ]
  },
  {
   "cell_type": "code",
   "execution_count": null,
   "id": "10d053d1-89d5-4873-8e23-4fd3fe50dc36",
   "metadata": {},
   "outputs": [],
   "source": []
  },
  {
   "cell_type": "markdown",
   "id": "1ce67169",
   "metadata": {},
   "source": [
    "# Celltype transparency - 8um VisiumHD CRC data"
   ]
  },
  {
   "cell_type": "code",
   "execution_count": null,
   "id": "b3cd1d1e-29c0-451e-8c4f-b93c507918ef",
   "metadata": {
    "execution": {
     "iopub.execute_input": "2025-10-07T12:05:49.812591Z",
     "iopub.status.busy": "2025-10-07T12:05:49.812375Z",
     "iopub.status.idle": "2025-10-07T12:06:09.454279Z",
     "shell.execute_reply": "2025-10-07T12:06:09.453252Z",
     "shell.execute_reply.started": "2025-10-07T12:05:49.812575Z"
    }
   },
   "outputs": [],
   "source": [
    "adata_8um = sc.read_h5ad('/home/NAS/chs1151/C_D1/square_008um/CRC_HD_P2_8um.adata')"
   ]
  },
  {
   "cell_type": "code",
   "execution_count": null,
   "id": "dd8413bd-6567-4453-8b49-cc81b2448d95",
   "metadata": {
    "execution": {
     "iopub.execute_input": "2025-10-07T12:06:09.455500Z",
     "iopub.status.busy": "2025-10-07T12:06:09.455312Z",
     "iopub.status.idle": "2025-10-07T12:06:09.465785Z",
     "shell.execute_reply": "2025-10-07T12:06:09.464948Z",
     "shell.execute_reply.started": "2025-10-07T12:06:09.455485Z"
    }
   },
   "outputs": [],
   "source": [
    "adata_8um.obsm['spatial'] = adata_8um.obsm['spatial'].astype('float')"
   ]
  },
  {
   "cell_type": "code",
   "execution_count": null,
   "id": "d05e2e08-2229-47c7-950b-af8026cf1bf8",
   "metadata": {
    "execution": {
     "iopub.execute_input": "2025-10-07T12:06:09.466471Z",
     "iopub.status.busy": "2025-10-07T12:06:09.466324Z",
     "iopub.status.idle": "2025-10-07T12:06:24.511999Z",
     "shell.execute_reply": "2025-10-07T12:06:24.510637Z",
     "shell.execute_reply.started": "2025-10-07T12:06:09.466458Z"
    }
   },
   "outputs": [],
   "source": [
    "adata_8um = SPIX.tm.generate_embeddings(\n",
    "    adata_8um,\n",
    "    dim_reduction='PCA',\n",
    "    normalization='log_norm', \n",
    "    n_jobs=32,\n",
    "    dimensions=30,\n",
    "    nfeatures=2000,\n",
    "    use_coords_as_tiles=True,\n",
    "    coords_max_gap_factor=None,\n",
    "    force=True,\n",
    "    use_hvg_only=True,\n",
    "    raster_stride=10,\n",
    "    filter_threshold=1,\n",
    "    raster_max_pixels_per_tile=400,\n",
    "    raster_random_seed=42\n",
    ")\n"
   ]
  },
  {
   "cell_type": "code",
   "execution_count": null,
   "id": "0e908ed1-e5d3-4898-8987-bd5439d1c726",
   "metadata": {
    "execution": {
     "iopub.execute_input": "2025-10-07T12:21:15.817679Z",
     "iopub.status.busy": "2025-10-07T12:21:15.817450Z",
     "iopub.status.idle": "2025-10-07T12:21:20.187985Z",
     "shell.execute_reply": "2025-10-07T12:21:20.186947Z",
     "shell.execute_reply.started": "2025-10-07T12:21:15.817657Z"
    }
   },
   "outputs": [],
   "source": [
    "adata_8um = SPIX.ip.smooth_image(\n",
    "    adata_8um,\n",
    "    methods=['graph','gaussian'],\n",
    "    embedding='X_embedding',\n",
    "    embedding_dims = list(range(30)),\n",
    "    graph_k=30,\n",
    "    graph_t=3,\n",
    "    gaussian_sigma=50,\n",
    "    n_jobs=10,\n",
    "    rescale_mode='final',\n",
    ")"
   ]
  },
  {
   "cell_type": "code",
   "execution_count": null,
   "id": "e0ab6b96-1f5e-49e2-8bca-68349a787552",
   "metadata": {
    "execution": {
     "iopub.execute_input": "2025-10-07T12:22:35.732228Z",
     "iopub.status.busy": "2025-10-07T12:22:35.731938Z",
     "iopub.status.idle": "2025-10-07T12:22:36.453010Z",
     "shell.execute_reply": "2025-10-07T12:22:36.452200Z",
     "shell.execute_reply.started": "2025-10-07T12:22:35.732212Z"
    }
   },
   "outputs": [],
   "source": [
    "adata_8um = SPIX.ip.equalize_image(\n",
    "    adata_8um,\n",
    "    dimensions=list(range(30)),\n",
    "    embedding='X_embedding_smooth',\n",
    "    sleft=5,sright=5\n",
    ")"
   ]
  },
  {
   "cell_type": "code",
   "execution_count": null,
   "id": "0460010d-958d-42bb-b844-07cdc3b35cfa",
   "metadata": {
    "execution": {
     "iopub.execute_input": "2025-10-07T12:22:38.736731Z",
     "iopub.status.busy": "2025-10-07T12:22:38.736356Z",
     "iopub.status.idle": "2025-10-07T12:22:39.519198Z",
     "shell.execute_reply": "2025-10-07T12:22:39.518239Z",
     "shell.execute_reply.started": "2025-10-07T12:22:38.736707Z"
    }
   },
   "outputs": [],
   "source": [
    "SPIX.pl.image_plot(\n",
    "    adata_8um,\n",
    "    dimensions=[0, 1, 2],\n",
    "    embedding='X_embedding_equalize',\n",
    "    figsize=(10, 10),     \n",
    "    plot_boundaries=False,\n",
    "    origin=True\n",
    ")"
   ]
  },
  {
   "cell_type": "code",
   "execution_count": null,
   "id": "2ff25607-a2e8-4d69-aa78-703ec044e0d9",
   "metadata": {
    "execution": {
     "iopub.execute_input": "2025-10-07T12:23:15.150027Z",
     "iopub.status.busy": "2025-10-07T12:23:15.149593Z",
     "iopub.status.idle": "2025-10-07T12:23:19.664016Z",
     "shell.execute_reply": "2025-10-07T12:23:19.663299Z",
     "shell.execute_reply.started": "2025-10-07T12:23:15.149997Z"
    }
   },
   "outputs": [],
   "source": [
    "SPIX.sp.segment_image(\n",
    "    adata_8um,\n",
    "    dimensions=list(range(30)),\n",
    "     embedding='X_embedding_equalize',\n",
    "     method='image_plot_slic',\n",
    "    pitch_um=8,\n",
    "    target_segment_um=500,\n",
    "     compactness=1,\n",
    "     verbose=True,\n",
    "    figsize = (10, 10),\n",
    "    enforce_connectivity=False,\n",
    "     origin=True,\n",
    "    show_image=True\n",
    ")"
   ]
  },
  {
   "cell_type": "code",
   "execution_count": null,
   "id": "cb601e91-baa9-422b-8b0d-d67f4f8e3e02",
   "metadata": {
    "execution": {
     "iopub.execute_input": "2025-10-07T12:10:01.631615Z",
     "iopub.status.busy": "2025-10-07T12:10:01.631259Z",
     "iopub.status.idle": "2025-10-07T12:10:01.640619Z",
     "shell.execute_reply": "2025-10-07T12:10:01.639504Z",
     "shell.execute_reply.started": "2025-10-07T12:10:01.631597Z"
    }
   },
   "outputs": [],
   "source": [
    "import celltypist\n",
    "from celltypist import models"
   ]
  },
  {
   "cell_type": "code",
   "execution_count": null,
   "id": "80620e21-4e0f-48e2-ad52-8c55ba4b0b7b",
   "metadata": {
    "execution": {
     "iopub.execute_input": "2025-10-07T12:10:58.911509Z",
     "iopub.status.busy": "2025-10-07T12:10:58.911027Z",
     "iopub.status.idle": "2025-10-07T12:10:59.135034Z",
     "shell.execute_reply": "2025-10-07T12:10:59.133819Z",
     "shell.execute_reply.started": "2025-10-07T12:10:58.911473Z"
    }
   },
   "outputs": [],
   "source": [
    "adata_8um.layers['counts'] = adata_8um.X.copy()"
   ]
  },
  {
   "cell_type": "code",
   "execution_count": null,
   "id": "e9e7cc9f-a1a0-417e-9cb6-9ceae18c244f",
   "metadata": {
    "execution": {
     "iopub.execute_input": "2025-10-07T12:12:45.079654Z",
     "iopub.status.busy": "2025-10-07T12:12:45.079266Z",
     "iopub.status.idle": "2025-10-07T12:12:47.154942Z",
     "shell.execute_reply": "2025-10-07T12:12:47.153692Z",
     "shell.execute_reply.started": "2025-10-07T12:12:45.079618Z"
    }
   },
   "outputs": [],
   "source": [
    "sc.pp.normalize_total(adata_8um,target_sum=1e4)\n",
    "sc.pp.log1p(adata_8um)"
   ]
  },
  {
   "cell_type": "code",
   "execution_count": null,
   "id": "c6ce139a-0587-44c7-bc74-deb82408eb09",
   "metadata": {
    "execution": {
     "iopub.execute_input": "2025-10-07T12:13:04.746894Z",
     "iopub.status.busy": "2025-10-07T12:13:04.746479Z",
     "iopub.status.idle": "2025-10-07T12:13:19.864510Z",
     "shell.execute_reply": "2025-10-07T12:13:19.863262Z",
     "shell.execute_reply.started": "2025-10-07T12:13:04.746869Z"
    }
   },
   "outputs": [],
   "source": [
    "predictions_8bin_crc = celltypist.annotate(adata_8um, model = 'Human_Colorectal_Cancer.pkl', majority_voting = False,use_GPU=True)\n",
    "adata_8um.obs['predicted_labels'] = predictions_8bin_crc.predicted_labels['predicted_labels'].copy()"
   ]
  },
  {
   "cell_type": "code",
   "execution_count": null,
   "id": "ccbb1562-d8f2-475f-a994-bf5a5d527afb",
   "metadata": {
    "execution": {
     "iopub.execute_input": "2025-10-07T12:24:20.022723Z",
     "iopub.status.busy": "2025-10-07T12:24:20.022327Z",
     "iopub.status.idle": "2025-10-07T12:24:20.238526Z",
     "shell.execute_reply": "2025-10-07T12:24:20.237783Z",
     "shell.execute_reply.started": "2025-10-07T12:24:20.022707Z"
    }
   },
   "outputs": [],
   "source": [
    "adata_8um.X = adata_8um.layers['counts'].copy()"
   ]
  },
  {
   "cell_type": "code",
   "execution_count": null,
   "id": "8d088a56-bd7a-4234-ab32-5ee2fe988cdf",
   "metadata": {
    "execution": {
     "iopub.execute_input": "2025-10-07T12:16:17.015389Z",
     "iopub.status.busy": "2025-10-07T12:16:17.014871Z",
     "iopub.status.idle": "2025-10-07T12:16:17.028423Z",
     "shell.execute_reply": "2025-10-07T12:16:17.027084Z",
     "shell.execute_reply.started": "2025-10-07T12:16:17.015350Z"
    }
   },
   "outputs": [],
   "source": [
    "import pandas as pd\n",
    "\n",
    "# Bing group mapping\n",
    "big_group_map = {\n",
    "    # Immune\n",
    "    \"CD4+ T cells\": \"Immune\",\n",
    "    \"CD8+ T cells\": \"Immune\",\n",
    "    \"Regulatory T cells\": \"Immune\",\n",
    "    \"T follicular helper cells\": \"Immune\",\n",
    "    \"T helper 17 cells\": \"Immune\",\n",
    "    \"gamma delta T cells\": \"Immune\",\n",
    "    \"CD19+CD20+ B\": \"Immune\",\n",
    "    \"IgA+ Plasma\": \"Immune\",\n",
    "    \"IgG+ Plasma\": \"Immune\",\n",
    "    \"NK cells\": \"Immune\",\n",
    "    \"cDC\": \"Immune\",\n",
    "    \"Mast cells\": \"Immune\",\n",
    "\n",
    "    # Epithelial\n",
    "    \"Mature Enterocytes type 1\": \"Epithelial\",\n",
    "    \"Mature Enterocytes type 2\": \"Epithelial\",\n",
    "    \"Goblet cells\": \"Epithelial\",\n",
    "    \"Enteric glial cells\": \"Epithelial\",\n",
    "    \"Stem-like/TA\": \"Epithelial\",\n",
    "    \"Intermediate\": \"Epithelial\",\n",
    "    \"Proliferative ECs\": \"Epithelial\",\n",
    "    \"Stalk-like ECs\": \"Epithelial\",\n",
    "    \"Tip-like ECs\": \"Epithelial\",\n",
    "    # CMS groups\n",
    "    \"CMS1\": \"CMS subtype\",\n",
    "    \"CMS2\": \"CMS subtype\",\n",
    "    \"CMS3\": \"CMS subtype\",\n",
    "    \"CMS4\": \"CMS subtype\",\n",
    "    # \"CMS1\": \"Epithelial\",\n",
    "    # \"CMS2\": \"Epithelial\",\n",
    "    # \"CMS3\": \"Epithelial\",\n",
    "    # \"CMS4\": \"Epithelial\",\n",
    "\n",
    "    # Stromal\n",
    "    \"Myofibroblasts\": \"Stromal\",\n",
    "    \"Smooth muscle cells\": \"Stromal\",\n",
    "    \"Pericytes\": \"Stromal\",\n",
    "    \"Stromal 1\": \"Stromal\",\n",
    "    \"Stromal 2\": \"Stromal\",\n",
    "    \"Stromal 3\": \"Stromal\",\n",
    "\n",
    "    # Endothelial / vascular\n",
    "    \"Lymphatic ECs\": \"Endothelial/Vascular\",\n",
    "    \"Proliferating\": \"Endothelial/Vascular\",\n",
    "\n",
    "    # Special / functional\n",
    "    \"SPP1+\": \"SPP1+\",\n",
    "    \"Pro-inflammatory\": \"Pro-inflammatory\",\n",
    "    \n",
    "    \"Unknown\": \"Unknown\"\n",
    "}\n",
    "\n",
    "# Small group mapping\n",
    "small_group_map = {\n",
    "    # T cells\n",
    "    \"CD4+ T cells\": \"T cell subset\",\n",
    "    \"CD8+ T cells\": \"T cell subset\",\n",
    "    \"Regulatory T cells\": \"T cell subset\",\n",
    "    \"T follicular helper cells\": \"T cell subset\",\n",
    "    \"T helper 17 cells\": \"T cell subset\",\n",
    "    \"gamma delta T cells\": \"T cell subset\",\n",
    "\n",
    "    # B lineage\n",
    "    \"CD19+CD20+ B\": \"B cell\",\n",
    "    \"IgA+ Plasma\": \"Plasma cell\",\n",
    "    \"IgG+ Plasma\": \"Plasma cell\",\n",
    "\n",
    "    # Innate immune\n",
    "    \"NK cells\": \"Innate immune\",\n",
    "    \"cDC\": \"Innate immune\",\n",
    "    \"Mast cells\": \"Innate immune\",\n",
    "\n",
    "    # Epithelial – differentiated\n",
    "    \"Mature Enterocytes type 1\": \"Mature epithelial\",\n",
    "    \"Mature Enterocytes type 2\": \"Mature epithelial\",\n",
    "    \"Goblet cells\": \"Mature epithelial\",\n",
    "    \"Enteric glial cells\": \"Mature epithelial\",\n",
    "\n",
    "    # Epithelial – progenitor\n",
    "    \"Stem-like/TA\": \"Progenitor epithelial\",\n",
    "    \"Intermediate\": \"Progenitor epithelial\",\n",
    "\n",
    "    # Epithelial – proliferative\n",
    "    \"Proliferative ECs\": \"Proliferative epithelial\",\n",
    "    \"Stalk-like ECs\": \"Proliferative epithelial\",\n",
    "    \"Tip-like ECs\": \"Proliferative epithelial\",\n",
    "\n",
    "    # CMS groups\n",
    "    \"CMS1\": \"CMS subtype\",\n",
    "    \"CMS2\": \"CMS subtype\",\n",
    "    \"CMS3\": \"CMS subtype\",\n",
    "    \"CMS4\": \"CMS subtype\",\n",
    "\n",
    "    # Stromal\n",
    "    \"Myofibroblasts\": \"Fibroblast-like\",\n",
    "    \"Smooth muscle cells\": \"Smooth muscle\",\n",
    "    \"Pericytes\": \"Perivascular cell\",\n",
    "    \"Stromal 1\": \"Stromal subtype\",\n",
    "    \"Stromal 2\": \"Stromal subtype\",\n",
    "    \"Stromal 3\": \"Stromal subtype\",\n",
    "\n",
    "    # Endothelial / vascular\n",
    "    \"Lymphatic ECs\": \"Endothelial cell\",\n",
    "    \"Proliferating\": \"Proliferating cell\",\n",
    "    # Special / functional\n",
    "    \"SPP1+\": \"SPP1+\",\n",
    "    \"Pro-inflammatory\": \"Pro-inflammatory\",\n",
    "    \"Unknown\": \"Unknown\"\n",
    "}\n",
    "\n"
   ]
  },
  {
   "cell_type": "code",
   "execution_count": null,
   "id": "29faa77e-e752-4414-b32a-067513a9b958",
   "metadata": {
    "execution": {
     "iopub.execute_input": "2025-10-07T12:16:29.755096Z",
     "iopub.status.busy": "2025-10-07T12:16:29.754510Z",
     "iopub.status.idle": "2025-10-07T12:16:29.792555Z",
     "shell.execute_reply": "2025-10-07T12:16:29.791214Z",
     "shell.execute_reply.started": "2025-10-07T12:16:29.755042Z"
    }
   },
   "outputs": [],
   "source": [
    "adata_8um.obs[\"big_group\"] = adata_8um.obs[\"predicted_labels\"].map(big_group_map)\n",
    "adata_8um.obs[\"small_group\"] = adata_8um.obs[\"predicted_labels\"].map(small_group_map)\n"
   ]
  },
  {
   "cell_type": "code",
   "execution_count": null,
   "id": "72b86632-0cac-45d0-b7cb-db9310b0dfb4",
   "metadata": {
    "execution": {
     "iopub.execute_input": "2025-10-07T12:17:35.380604Z",
     "iopub.status.busy": "2025-10-07T12:17:35.380204Z",
     "iopub.status.idle": "2025-10-07T12:17:36.910926Z",
     "shell.execute_reply": "2025-10-07T12:17:36.909475Z",
     "shell.execute_reply.started": "2025-10-07T12:17:35.380586Z"
    }
   },
   "outputs": [],
   "source": [
    "SPIX.pl.image_plot(\n",
    "    adata_8um,\n",
    "    embedding='X_embedding',\n",
    "    dimensions=[0, 1, 2],\n",
    "    color_by='small_group',\n",
    "    palette='sc.pl.palettes.default_20',\n",
    "    figsize=(20, 20),     \n",
    "    show_legend=True,\n",
    "    legend_ncol=1,\n",
    "    plot_boundaries=False,\n",
    "    origin=True\n",
    ")"
   ]
  },
  {
   "cell_type": "code",
   "execution_count": null,
   "id": "048e1832",
   "metadata": {},
   "outputs": [],
   "source": []
  },
  {
   "cell_type": "code",
   "execution_count": null,
   "id": "cb17f43e-ac2a-4f42-8065-731f92d026b0",
   "metadata": {
    "execution": {
     "iopub.execute_input": "2025-10-07T12:32:00.595034Z",
     "iopub.status.busy": "2025-10-07T12:32:00.594570Z",
     "iopub.status.idle": "2025-10-07T12:32:00.599092Z",
     "shell.execute_reply": "2025-10-07T12:32:00.597965Z",
     "shell.execute_reply.started": "2025-10-07T12:32:00.595014Z"
    }
   },
   "outputs": [],
   "source": [
    "gene = 'SLC4A4'"
   ]
  },
  {
   "cell_type": "code",
   "execution_count": null,
   "id": "fa19157d-0fe2-4aaa-b281-903e42b722d3",
   "metadata": {},
   "outputs": [],
   "source": []
  },
  {
   "cell_type": "code",
   "execution_count": null,
   "id": "8238cb78-f02d-4dd2-9b6e-6a744f410276",
   "metadata": {
    "execution": {
     "iopub.execute_input": "2025-10-07T12:32:01.537909Z",
     "iopub.status.busy": "2025-10-07T12:32:01.537505Z",
     "iopub.status.idle": "2025-10-07T12:32:01.930354Z",
     "shell.execute_reply": "2025-10-07T12:32:01.929159Z",
     "shell.execute_reply.started": "2025-10-07T12:32:01.537874Z"
    }
   },
   "outputs": [],
   "source": [
    "SPIX.an.add_gene_expression_embedding(adata_8um,genes=[gene],segment_key=None,normalize_total=True,log1p=True)"
   ]
  },
  {
   "cell_type": "code",
   "execution_count": null,
   "id": "8a7a7c68-3fb5-40b6-8d27-2efbfe71dd82",
   "metadata": {},
   "outputs": [],
   "source": []
  },
  {
   "cell_type": "code",
   "execution_count": null,
   "id": "f28657c3-f86e-44c3-ad4b-1d7f80a40d19",
   "metadata": {
    "execution": {
     "iopub.execute_input": "2025-10-07T12:32:02.294120Z",
     "iopub.status.busy": "2025-10-07T12:32:02.293865Z",
     "iopub.status.idle": "2025-10-07T12:32:02.935166Z",
     "shell.execute_reply": "2025-10-07T12:32:02.933891Z",
     "shell.execute_reply.started": "2025-10-07T12:32:02.294105Z"
    }
   },
   "outputs": [],
   "source": [
    "SPIX.pl.image_plot(\n",
    "    adata_8um,\n",
    "    dimensions=[0],\n",
    "    embedding='X_gene_embedding',\n",
    "    boundary_method='pixel',\n",
    "    # imshow_tile_size=10,\n",
    "    figsize=(10, 10),     \n",
    "    fixed_boundary_color='Black',\n",
    "    cmap='viridis',\n",
    "    boundary_linewidth=1,\n",
    "    show_colorbar=True,\n",
    "    prioritize_high_values=True,\n",
    "    title=gene,\n",
    "    alpha=1,\n",
    "    plot_boundaries=False,\n",
    "    origin=True\n",
    ")"
   ]
  },
  {
   "cell_type": "code",
   "execution_count": null,
   "id": "c0830158-e240-4bcb-aa9b-da862b77f8da",
   "metadata": {
    "execution": {
     "iopub.execute_input": "2025-10-07T12:36:06.305701Z",
     "iopub.status.busy": "2025-10-07T12:36:06.305248Z",
     "iopub.status.idle": "2025-10-07T12:36:10.433271Z",
     "shell.execute_reply": "2025-10-07T12:36:10.432043Z",
     "shell.execute_reply.started": "2025-10-07T12:36:06.305644Z"
    }
   },
   "outputs": [],
   "source": [
    "SPIX.pl.image_plot(\n",
    "    adata_8um,\n",
    "    dimensions=[0],\n",
    "    embedding='X_gene_embedding',\n",
    "    color_by='small_group',\n",
    "    boundary_method='pixel',\n",
    "    palette='sc.pl.palettes.default_20',\n",
    "    show_legend=True,\n",
    "    legend_ncol=1,\n",
    "    overlap_priority=None,\n",
    "    imshow_scale_factor=2,\n",
    "    title=gene,\n",
    "    cmap='viridis',\n",
    "    figsize=(20, 20),     \n",
    "    segment_color_by_major=False,\n",
    "    segment_show_pie=False,\n",
    "    segment_annotate_by='big_group', \n",
    "    segment_top_n=3,\n",
    "    segment_pie_scale=10,\n",
    "    alpha_by='embedding',                                               \n",
    "    alpha_range=(0.2, 1.0),                \n",
    "    alpha_clip=None,                       \n",
    "    prioritize_high_values=True,\n",
    "    boundary_linewidth=0.5,\n",
    "    alpha=1,\n",
    "    plot_boundaries=True,\n",
    ")"
   ]
  },
  {
   "cell_type": "code",
   "execution_count": null,
   "id": "e46bc5ef",
   "metadata": {},
   "outputs": [],
   "source": []
  }
 ],
 "metadata": {
  "kernelspec": {
   "display_name": "SPIX_1007",
   "language": "python",
   "name": "python3"
  },
  "language_info": {
   "codemirror_mode": {
    "name": "ipython",
    "version": 3
   },
   "file_extension": ".py",
   "mimetype": "text/x-python",
   "name": "python",
   "nbconvert_exporter": "python",
   "pygments_lexer": "ipython3",
   "version": "3.10.18"
  },
  "widgets": {
   "application/vnd.jupyter.widget-state+json": {
    "state": {},
    "version_major": 2,
    "version_minor": 0
   }
  }
 },
 "nbformat": 4,
 "nbformat_minor": 5
}
